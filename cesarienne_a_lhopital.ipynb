{
  "nbformat": 4,
  "nbformat_minor": 0,
  "metadata": {
    "colab": {
      "name": "cesarienne_a_lhopital.ipynb",
      "provenance": [],
      "collapsed_sections": [],
      "authorship_tag": "ABX9TyMC7sWrzS7GrlwhcqlWX2BK",
      "include_colab_link": true
    },
    "kernelspec": {
      "name": "python3",
      "display_name": "Python 3"
    },
    "language_info": {
      "name": "python"
    }
  },
  "cells": [
    {
      "cell_type": "markdown",
      "metadata": {
        "id": "view-in-github",
        "colab_type": "text"
      },
      "source": [
        "<a href=\"https://colab.research.google.com/github/DForgard/cesarienne_a_lhopital/blob/main/cesarienne_a_lhopital.ipynb\" target=\"_parent\"><img src=\"https://colab.research.google.com/assets/colab-badge.svg\" alt=\"Open In Colab\"/></a>"
      ]
    },
    {
      "cell_type": "code",
      "execution_count": 1,
      "metadata": {
        "colab": {
          "base_uri": "https://localhost:8080/"
        },
        "id": "kZVxZcQjaW15",
        "outputId": "2095200e-26bf-4444-c828-7dce60ae4cb0"
      },
      "outputs": [
        {
          "output_type": "stream",
          "name": "stdout",
          "text": [
            "--2022-07-16 09:49:39--  https://archive.ics.uci.edu/ml/machine-learning-databases/00472/caesarian.csv.arff\n",
            "Resolving archive.ics.uci.edu (archive.ics.uci.edu)... 128.195.10.252\n",
            "Connecting to archive.ics.uci.edu (archive.ics.uci.edu)|128.195.10.252|:443... connected.\n",
            "HTTP request sent, awaiting response... 200 OK\n",
            "Length: 1437 (1.4K) [application/x-httpd-php]\n",
            "Saving to: ‘caesarian.csv.arff’\n",
            "\n",
            "caesarian.csv.arff  100%[===================>]   1.40K  --.-KB/s    in 0s      \n",
            "\n",
            "2022-07-16 09:49:40 (39.8 MB/s) - ‘caesarian.csv.arff’ saved [1437/1437]\n",
            "\n"
          ]
        }
      ],
      "source": [
        "# téléchargement du jeu de données (lien vers le fichier)\n",
        "!wget https://archive.ics.uci.edu/ml/machine-learning-databases/00472/caesarian.csv.arff"
      ]
    },
    {
      "cell_type": "code",
      "source": [
        "# Césarienne à l'hôpital (page web complète): https://archive.ics.uci.edu/ml/datasets/Caesarian+Section+Classification+Dataset\n",
        "# imports\n",
        "\n",
        "import pandas as pd\n",
        "import numpy as np\n",
        "import matplotlib.pyplot as plt\n",
        "from sklearn.model_selection import train_test_split\n",
        "from sklearn.preprocessing import StandardScaler\n",
        "from sklearn.preprocessing import OneHotEncoder\n",
        "from sklearn import tree\n",
        "from sklearn.metrics import accuracy_score\n",
        "import re\n",
        "import graphviz\n"
      ],
      "metadata": {
        "id": "V952ETHyaeOX"
      },
      "execution_count": 38,
      "outputs": []
    },
    {
      "cell_type": "code",
      "source": [
        "# le fichier est dans le répertoire courant\n",
        "filename = \"caesarian.csv.arff\"\n",
        "# lire le dataframe\n",
        "all_lines = []\n",
        "with open(filename) as f:\n",
        " all_lines = f.readlines()\n"
      ],
      "metadata": {
        "id": "yctt0iAqapDJ"
      },
      "execution_count": 3,
      "outputs": []
    },
    {
      "cell_type": "code",
      "source": [
        "all_lines"
      ],
      "metadata": {
        "colab": {
          "base_uri": "https://localhost:8080/"
        },
        "id": "i-RaEo4vawLc",
        "outputId": "36a29835-ea8f-4a6f-8e5b-9964ed72b688"
      },
      "execution_count": 4,
      "outputs": [
        {
          "output_type": "execute_result",
          "data": {
            "text/plain": [
              "['@relation caesarian\\n',\n",
              " '\\n',\n",
              " '\\n',\n",
              " '\\n',\n",
              " '\\n',\n",
              " \"@attribute 'Age' { 22,26,28,27,32,36,33,23,20,29,25,37,24,18,30,40,31,19,21,35,17,38 } \\n\",\n",
              " \"@attribute 'Delivery number' { 1,2,3,4 }\\n\",\n",
              " \"@attribute 'Delivery time' { 0,1,2 }\\n\",\n",
              " \"@attribute 'Blood of Pressure' { 2,1,0 }\\n\",\n",
              " '\\n',\n",
              " \"@attribute 'Heart Problem' { 1,0 } \\n\",\n",
              " '@attribute Caesarian { 0,1 }\\n',\n",
              " '\\n',\n",
              " '\\n',\n",
              " '@data\\n',\n",
              " '\\n',\n",
              " '\\n',\n",
              " '22,1,0,2,0,0\\n',\n",
              " '26,2,0,1,0,1\\n',\n",
              " '26,2,1,1,0,0\\n',\n",
              " '28,1,0,2,0,0\\n',\n",
              " '22,2,0,1,0,1\\n',\n",
              " '26,1,1,0,0,0\\n',\n",
              " '27,2,0,1,0,0\\n',\n",
              " '32,3,0,1,0,1\\n',\n",
              " '28,2,0,1,0,0\\n',\n",
              " '27,1,1,1,0,1\\n',\n",
              " '36,1,0,1,0,0\\n',\n",
              " '33,1,1,0,0,1\\n',\n",
              " '23,1,1,1,0,0\\n',\n",
              " '20,1,0,1,1,0\\n',\n",
              " '29,1,2,0,1,1\\n',\n",
              " '25,1,2,0,0,0\\n',\n",
              " '25,1,0,1,0,0\\n',\n",
              " '20,1,2,2,0,1\\n',\n",
              " '37,3,0,1,1,1\\n',\n",
              " '24,1,2,0,1,1\\n',\n",
              " '26,1,1,1,0,0\\n',\n",
              " '33,2,0,0,1,1\\n',\n",
              " '25,1,1,2,0,0\\n',\n",
              " '27,1,0,0,1,1\\n',\n",
              " '20,1,0,2,1,1\\n',\n",
              " '18,1,0,1,0,0\\n',\n",
              " '18,1,1,2,1,1\\n',\n",
              " '30,1,0,1,0,0\\n',\n",
              " '32,1,0,2,1,1\\n',\n",
              " '26,2,1,1,1,0\\n',\n",
              " '25,1,0,0,0,0\\n',\n",
              " '40,1,0,1,1,1\\n',\n",
              " '32,2,0,2,1,1\\n',\n",
              " '27,2,0,1,1,1\\n',\n",
              " '26,2,2,1,0,1\\n',\n",
              " '28,3,0,2,0,1\\n',\n",
              " '33,1,1,1,0,0\\n',\n",
              " '31,2,2,1,0,0\\n',\n",
              " '31,1,0,1,0,0\\n',\n",
              " '26,1,2,0,1,1\\n',\n",
              " '27,1,0,2,1,1\\n',\n",
              " '19,1,0,1,0,1\\n',\n",
              " '36,1,1,2,0,1\\n',\n",
              " '22,1,0,1,0,1\\n',\n",
              " '36,4,0,2,1,1\\n',\n",
              " '28,3,0,1,1,1\\n',\n",
              " '26,1,0,1,0,0\\n',\n",
              " '32,2,0,2,1,1\\n',\n",
              " '26,2,2,1,0,0\\n',\n",
              " '29,2,0,0,1,1\\n',\n",
              " '33,3,2,1,1,0\\n',\n",
              " '21,2,1,0,1,1\\n',\n",
              " '30,3,2,2,0,0\\n',\n",
              " '35,1,1,0,0,0\\n',\n",
              " '29,2,0,1,1,1\\n',\n",
              " '25,2,0,1,0,0\\n',\n",
              " '32,3,1,0,1,1\\n',\n",
              " '21,1,0,0,0,1\\n',\n",
              " '26,1,0,2,0,1\\n',\n",
              " '30,2,1,2,1,1\\n',\n",
              " '22,1,2,2,0,0\\n',\n",
              " '19,1,0,1,0,1\\n',\n",
              " '32,2,0,0,0,1\\n',\n",
              " '32,2,0,1,1,1\\n',\n",
              " '31,1,2,2,1,0\\n',\n",
              " '35,2,0,1,0,1\\n',\n",
              " '28,3,0,1,0,1\\n',\n",
              " '29,2,0,1,1,0\\n',\n",
              " '25,1,0,0,0,1\\n',\n",
              " '27,2,2,0,0,0\\n',\n",
              " '17,1,0,0,0,1\\n',\n",
              " '29,1,2,0,1,1\\n',\n",
              " '28,2,0,1,0,0\\n',\n",
              " '32,3,0,1,1,0\\n',\n",
              " '38,3,2,2,1,1\\n',\n",
              " '27,2,1,1,0,0\\n',\n",
              " '33,4,0,1,0,1\\n',\n",
              " '29,2,1,2,0,1\\n',\n",
              " '25,1,2,0,0,1\\n',\n",
              " '24,2,2,1,0,0\\n']"
            ]
          },
          "metadata": {},
          "execution_count": 4
        }
      ]
    },
    {
      "cell_type": "code",
      "source": [
        "# le fichier csv possède des lignes qui vont rendre sa lecture directe via panda impossible\n",
        "# on itère sur les lignes afin de ne retenir que les lignes qui respectent un regex : 'nombre,nombre,nombre,nombre,nombre,nombre\\n'\n",
        "# on enlève alors le saut de ligne : \"\\n\"\n",
        "all_obs = [line.replace(\"\\n\",\"\").split(\",\") for line  in all_lines if re.match('([\\d,]+)\\\\n', line)]"
      ],
      "metadata": {
        "id": "5Kmo0MtNa2ws"
      },
      "execution_count": 5,
      "outputs": []
    },
    {
      "cell_type": "code",
      "source": [
        "# on constitue un dataframe à partir de la liste\n",
        "df_caesarian = pd.DataFrame(all_obs, columns = [\"Age\",\n",
        "                                               \"Delivery number\",\n",
        "                                               \"Delivery time\",\n",
        "                                               \"Blood of Pressure\",\n",
        "                                               \"Heart Problem\",\n",
        "                                               \"Caesarian\"])"
      ],
      "metadata": {
        "id": "PINDJrY6bH5s"
      },
      "execution_count": 6,
      "outputs": []
    },
    {
      "cell_type": "code",
      "source": [
        "df_caesarian.head()\n"
      ],
      "metadata": {
        "colab": {
          "base_uri": "https://localhost:8080/",
          "height": 206
        },
        "id": "Mbv5CyV0bMQU",
        "outputId": "2a759a7e-5a72-44a0-dfc3-055786cbe3ce"
      },
      "execution_count": 9,
      "outputs": [
        {
          "output_type": "execute_result",
          "data": {
            "text/plain": [
              "  Age Delivery number Delivery time Blood of Pressure Heart Problem Caesarian\n",
              "0  22               1             0                 2             0         0\n",
              "1  26               2             0                 1             0         1\n",
              "2  26               2             1                 1             0         0\n",
              "3  28               1             0                 2             0         0\n",
              "4  22               2             0                 1             0         1"
            ],
            "text/html": [
              "\n",
              "  <div id=\"df-0213576c-5e7f-4891-9b7f-ffdef1ac9815\">\n",
              "    <div class=\"colab-df-container\">\n",
              "      <div>\n",
              "<style scoped>\n",
              "    .dataframe tbody tr th:only-of-type {\n",
              "        vertical-align: middle;\n",
              "    }\n",
              "\n",
              "    .dataframe tbody tr th {\n",
              "        vertical-align: top;\n",
              "    }\n",
              "\n",
              "    .dataframe thead th {\n",
              "        text-align: right;\n",
              "    }\n",
              "</style>\n",
              "<table border=\"1\" class=\"dataframe\">\n",
              "  <thead>\n",
              "    <tr style=\"text-align: right;\">\n",
              "      <th></th>\n",
              "      <th>Age</th>\n",
              "      <th>Delivery number</th>\n",
              "      <th>Delivery time</th>\n",
              "      <th>Blood of Pressure</th>\n",
              "      <th>Heart Problem</th>\n",
              "      <th>Caesarian</th>\n",
              "    </tr>\n",
              "  </thead>\n",
              "  <tbody>\n",
              "    <tr>\n",
              "      <th>0</th>\n",
              "      <td>22</td>\n",
              "      <td>1</td>\n",
              "      <td>0</td>\n",
              "      <td>2</td>\n",
              "      <td>0</td>\n",
              "      <td>0</td>\n",
              "    </tr>\n",
              "    <tr>\n",
              "      <th>1</th>\n",
              "      <td>26</td>\n",
              "      <td>2</td>\n",
              "      <td>0</td>\n",
              "      <td>1</td>\n",
              "      <td>0</td>\n",
              "      <td>1</td>\n",
              "    </tr>\n",
              "    <tr>\n",
              "      <th>2</th>\n",
              "      <td>26</td>\n",
              "      <td>2</td>\n",
              "      <td>1</td>\n",
              "      <td>1</td>\n",
              "      <td>0</td>\n",
              "      <td>0</td>\n",
              "    </tr>\n",
              "    <tr>\n",
              "      <th>3</th>\n",
              "      <td>28</td>\n",
              "      <td>1</td>\n",
              "      <td>0</td>\n",
              "      <td>2</td>\n",
              "      <td>0</td>\n",
              "      <td>0</td>\n",
              "    </tr>\n",
              "    <tr>\n",
              "      <th>4</th>\n",
              "      <td>22</td>\n",
              "      <td>2</td>\n",
              "      <td>0</td>\n",
              "      <td>1</td>\n",
              "      <td>0</td>\n",
              "      <td>1</td>\n",
              "    </tr>\n",
              "  </tbody>\n",
              "</table>\n",
              "</div>\n",
              "      <button class=\"colab-df-convert\" onclick=\"convertToInteractive('df-0213576c-5e7f-4891-9b7f-ffdef1ac9815')\"\n",
              "              title=\"Convert this dataframe to an interactive table.\"\n",
              "              style=\"display:none;\">\n",
              "        \n",
              "  <svg xmlns=\"http://www.w3.org/2000/svg\" height=\"24px\"viewBox=\"0 0 24 24\"\n",
              "       width=\"24px\">\n",
              "    <path d=\"M0 0h24v24H0V0z\" fill=\"none\"/>\n",
              "    <path d=\"M18.56 5.44l.94 2.06.94-2.06 2.06-.94-2.06-.94-.94-2.06-.94 2.06-2.06.94zm-11 1L8.5 8.5l.94-2.06 2.06-.94-2.06-.94L8.5 2.5l-.94 2.06-2.06.94zm10 10l.94 2.06.94-2.06 2.06-.94-2.06-.94-.94-2.06-.94 2.06-2.06.94z\"/><path d=\"M17.41 7.96l-1.37-1.37c-.4-.4-.92-.59-1.43-.59-.52 0-1.04.2-1.43.59L10.3 9.45l-7.72 7.72c-.78.78-.78 2.05 0 2.83L4 21.41c.39.39.9.59 1.41.59.51 0 1.02-.2 1.41-.59l7.78-7.78 2.81-2.81c.8-.78.8-2.07 0-2.86zM5.41 20L4 18.59l7.72-7.72 1.47 1.35L5.41 20z\"/>\n",
              "  </svg>\n",
              "      </button>\n",
              "      \n",
              "  <style>\n",
              "    .colab-df-container {\n",
              "      display:flex;\n",
              "      flex-wrap:wrap;\n",
              "      gap: 12px;\n",
              "    }\n",
              "\n",
              "    .colab-df-convert {\n",
              "      background-color: #E8F0FE;\n",
              "      border: none;\n",
              "      border-radius: 50%;\n",
              "      cursor: pointer;\n",
              "      display: none;\n",
              "      fill: #1967D2;\n",
              "      height: 32px;\n",
              "      padding: 0 0 0 0;\n",
              "      width: 32px;\n",
              "    }\n",
              "\n",
              "    .colab-df-convert:hover {\n",
              "      background-color: #E2EBFA;\n",
              "      box-shadow: 0px 1px 2px rgba(60, 64, 67, 0.3), 0px 1px 3px 1px rgba(60, 64, 67, 0.15);\n",
              "      fill: #174EA6;\n",
              "    }\n",
              "\n",
              "    [theme=dark] .colab-df-convert {\n",
              "      background-color: #3B4455;\n",
              "      fill: #D2E3FC;\n",
              "    }\n",
              "\n",
              "    [theme=dark] .colab-df-convert:hover {\n",
              "      background-color: #434B5C;\n",
              "      box-shadow: 0px 1px 3px 1px rgba(0, 0, 0, 0.15);\n",
              "      filter: drop-shadow(0px 1px 2px rgba(0, 0, 0, 0.3));\n",
              "      fill: #FFFFFF;\n",
              "    }\n",
              "  </style>\n",
              "\n",
              "      <script>\n",
              "        const buttonEl =\n",
              "          document.querySelector('#df-0213576c-5e7f-4891-9b7f-ffdef1ac9815 button.colab-df-convert');\n",
              "        buttonEl.style.display =\n",
              "          google.colab.kernel.accessAllowed ? 'block' : 'none';\n",
              "\n",
              "        async function convertToInteractive(key) {\n",
              "          const element = document.querySelector('#df-0213576c-5e7f-4891-9b7f-ffdef1ac9815');\n",
              "          const dataTable =\n",
              "            await google.colab.kernel.invokeFunction('convertToInteractive',\n",
              "                                                     [key], {});\n",
              "          if (!dataTable) return;\n",
              "\n",
              "          const docLinkHtml = 'Like what you see? Visit the ' +\n",
              "            '<a target=\"_blank\" href=https://colab.research.google.com/notebooks/data_table.ipynb>data table notebook</a>'\n",
              "            + ' to learn more about interactive tables.';\n",
              "          element.innerHTML = '';\n",
              "          dataTable['output_type'] = 'display_data';\n",
              "          await google.colab.output.renderOutput(dataTable, element);\n",
              "          const docLink = document.createElement('div');\n",
              "          docLink.innerHTML = docLinkHtml;\n",
              "          element.appendChild(docLink);\n",
              "        }\n",
              "      </script>\n",
              "    </div>\n",
              "  </div>\n",
              "  "
            ]
          },
          "metadata": {},
          "execution_count": 9
        }
      ]
    },
    {
      "cell_type": "code",
      "source": [
        "# on se définit les colonnes d'intérêt : variable endogène /variable que l'on veut prédire\n",
        "target_df = df_caesarian[[\"Caesarian\"]].astype(int)"
      ],
      "metadata": {
        "id": "f9VB-aj2bTEo"
      },
      "execution_count": 10,
      "outputs": []
    },
    {
      "cell_type": "code",
      "source": [
        "# colonne numérique\n",
        "num_df = df_caesarian[[\"Age\"]].astype(int)\n"
      ],
      "metadata": {
        "id": "io_z2-e4bPE4"
      },
      "execution_count": 8,
      "outputs": []
    },
    {
      "cell_type": "code",
      "source": [
        "# colonnes catégorielle\n",
        "cat_df = df_caesarian[[\"Delivery number\",\n",
        "            \"Delivery time\",\n",
        "            \"Blood of Pressure\",\n",
        "            \"Heart Problem\"]].astype(int)"
      ],
      "metadata": {
        "id": "BpSpesnUdvQr"
      },
      "execution_count": 22,
      "outputs": []
    },
    {
      "cell_type": "code",
      "source": [
        "# nous allons convertir les colonnes catégorielles\n",
        "# il n'existe pas de relation d'ordre pour des variables catégorielles\n",
        "# il faut donc convertir le data frame en format large\n",
        "cols = []\n",
        "for col in [\"Delivery number\", \n",
        "            \"Delivery time\",\n",
        "            \"Blood of Pressure\",\n",
        "            \"Heart Problem\"]:\n",
        "\n",
        " col_dim = len(df_caesarian[col].unique())\n",
        " print(col_dim)\n",
        " cols += [f\"{col}_{str(k)}\" for k in range(col_dim)]\n",
        "\n",
        " print(f\"the column: {col} will be transformed into : {col_dim} columns\")"
      ],
      "metadata": {
        "colab": {
          "base_uri": "https://localhost:8080/"
        },
        "id": "RH4FzZaVboh-",
        "outputId": "9c4fcc37-a142-490b-e3aa-fac788321fed"
      },
      "execution_count": 11,
      "outputs": [
        {
          "output_type": "stream",
          "name": "stdout",
          "text": [
            "4\n",
            "the column: Delivery number will be transformed into : 4 columns\n",
            "3\n",
            "the column: Delivery time will be transformed into : 3 columns\n",
            "3\n",
            "the column: Blood of Pressure will be transformed into : 3 columns\n",
            "2\n",
            "the column: Heart Problem will be transformed into : 2 columns\n"
          ]
        }
      ]
    },
    {
      "cell_type": "code",
      "source": [
        "# les données ne sont pas à la même échelle\n",
        "df_scaler = StandardScaler()"
      ],
      "metadata": {
        "id": "1lQtO9Jab5jw"
      },
      "execution_count": 12,
      "outputs": []
    },
    {
      "cell_type": "code",
      "source": [
        "# on se limite aux colonnes à standardiser (le résultat est une numpy array)\n",
        "np_num_col_scaled = df_scaler.fit_transform(num_df)"
      ],
      "metadata": {
        "id": "IyhEWe-IcKli"
      },
      "execution_count": 14,
      "outputs": []
    },
    {
      "cell_type": "code",
      "source": [
        "# la numpy array est transformée en dataframe\n",
        "df_num_col_scaled = pd.DataFrame(np_num_col_scaled, columns= [\"Age\"])"
      ],
      "metadata": {
        "id": "zVyU70iBcNnh"
      },
      "execution_count": 15,
      "outputs": []
    },
    {
      "cell_type": "code",
      "source": [
        "# les données sont catégorielles\n",
        "enc = OneHotEncoder(handle_unknown='ignore')"
      ],
      "metadata": {
        "id": "X8Tae5fNcVUy"
      },
      "execution_count": 17,
      "outputs": []
    },
    {
      "cell_type": "code",
      "source": [
        "# convertit le résultat de matrice creuse (sparse) en matrice pleine (dense)\n",
        "# (le résultat est une numpy array)\n",
        "np_cat_columns_one_hot = enc.fit_transform(cat_df).todense()"
      ],
      "metadata": {
        "id": "K5pPN7EncaVb"
      },
      "execution_count": 23,
      "outputs": []
    },
    {
      "cell_type": "code",
      "source": [
        "# la numpy array est transformée en dataframe\n",
        "df_cat_columns_one_hot = pd.DataFrame(np_cat_columns_one_hot, columns=cols)\n"
      ],
      "metadata": {
        "id": "tHTRlt8Jcq-w"
      },
      "execution_count": 24,
      "outputs": []
    },
    {
      "cell_type": "code",
      "source": [
        "# on concatène les colonnes numériques standardisées et les colonnes catégorielles encodées\n",
        "master_df = pd.concat([df_num_col_scaled, df_cat_columns_one_hot, target_df], axis = 1)\n",
        "master_df = master_df.sample(frac=1)"
      ],
      "metadata": {
        "id": "NBIgOQ99d6ei"
      },
      "execution_count": 25,
      "outputs": []
    },
    {
      "cell_type": "markdown",
      "source": [
        "**Opération de Pruning**"
      ],
      "metadata": {
        "id": "C-RPOglihO8y"
      }
    },
    {
      "cell_type": "code",
      "source": [
        "# on sépare le jeu de données en (données d'entraînement et test)\n",
        "data_train_caesarian, data_test_caesarian = train_test_split(master_df)"
      ],
      "metadata": {
        "id": "U6he7LgghTrA"
      },
      "execution_count": 26,
      "outputs": []
    },
    {
      "cell_type": "code",
      "source": [
        "data_train_caesarian.shape"
      ],
      "metadata": {
        "colab": {
          "base_uri": "https://localhost:8080/"
        },
        "id": "AHRg8pc6hbkB",
        "outputId": "b2920f75-3070-43b3-ba31-80206704fe11"
      },
      "execution_count": 27,
      "outputs": [
        {
          "output_type": "execute_result",
          "data": {
            "text/plain": [
              "(60, 14)"
            ]
          },
          "metadata": {},
          "execution_count": 27
        }
      ]
    },
    {
      "cell_type": "code",
      "source": [
        "data_test_caesarian.shape"
      ],
      "metadata": {
        "colab": {
          "base_uri": "https://localhost:8080/"
        },
        "id": "UfGELJoEhhxG",
        "outputId": "b65a78bb-ee11-491a-9ab8-c3e45480d142"
      },
      "execution_count": 28,
      "outputs": [
        {
          "output_type": "execute_result",
          "data": {
            "text/plain": [
              "(20, 14)"
            ]
          },
          "metadata": {},
          "execution_count": 28
        }
      ]
    },
    {
      "cell_type": "code",
      "source": [
        "# jeu d'entraînement + étiquettes d'entraînement\n",
        "X_train_caesarian = data_train_caesarian.drop(columns=[\"Caesarian\"])\n",
        "Y_train_caesarian = data_train_caesarian[[\"Caesarian\"]]\n"
      ],
      "metadata": {
        "id": "-BPGx6hUhXyL"
      },
      "execution_count": 34,
      "outputs": []
    },
    {
      "cell_type": "code",
      "source": [
        "# jeu de test +  étiquettes de test\n",
        "X_test_caesarian  = data_test_caesarian.drop(columns=[\"Caesarian\"])\n",
        "Y_test_caesarian  = data_test_caesarian[[\"Caesarian\"]]"
      ],
      "metadata": {
        "id": "l6sFK5CehnA4"
      },
      "execution_count": 29,
      "outputs": []
    },
    {
      "cell_type": "code",
      "source": [
        "from sklearn import tree\n",
        "clf_dt_II = tree.DecisionTreeClassifier(criterion='gini',   # Mesure la qualité de la partition (impureté de Gini ou gain d'information).\n",
        "                                 splitter='best',          # stratégie pour  partitionner à chaque noeud\n",
        "                                 max_depth=100,            # peut être spécifiée pour réduire l'overfitting\n",
        "                                 min_samples_split=2,      # peut être spécifiée pour réduire l'overfitting (définit la taille minimum pour initier une partition)\n",
        "                                 min_samples_leaf=1,       # taille minimum d'un noeud terminal/feuille\n",
        "                                 max_features=10,          # le nombre maximum d'attributs à considérer pour partitionner (ici nous avons 12 attributs)\n",
        "                                 random_state=42,          # permet la reproductibilité des résultats\n",
        "                                 max_leaf_nodes=None,      # peut limiter le nombre de noeuds terminaux (limite la largeur de l'arbre)\n",
        "                                 min_impurity_decrease=0.0,# un noeud sera partitionné s’il y a une diminution de l'impureté (mesurée par l'indice de Gini)\n",
        "                                 class_weight=None,        # à spécifier en cas de données non équilibrées\n",
        "                                 ccp_alpha=0.0)            # à spécifier pour réduire l'overfitting (mécanisme de pruning)"
      ],
      "metadata": {
        "id": "P5AESIeohuD5"
      },
      "execution_count": 30,
      "outputs": []
    },
    {
      "cell_type": "markdown",
      "source": [
        "**Entrainement du modèle**"
      ],
      "metadata": {
        "id": "vv7gmoGoiFZI"
      }
    },
    {
      "cell_type": "code",
      "source": [
        "#entrainement du modèle\n",
        "clf_dt = tree.DecisionTreeClassifier()\n",
        "clf_dt_II = clf_dt.fit(X_train_caesarian, Y_train_caesarian)\n",
        "caesarian_predictions = clf_dt_II.predict(X_test_caesarian)"
      ],
      "metadata": {
        "id": "7GjInWS2iODy"
      },
      "execution_count": 35,
      "outputs": []
    },
    {
      "cell_type": "code",
      "source": [
        "# métrique\n",
        "acc_score = accuracy_score(Y_test_caesarian, caesarian_predictions)\n",
        "print(acc_score)\n",
        "plt.figure(figsize = (10,10))\n",
        "dot_data = tree.export_graphviz(clf_dt_II, out_file=None,\n",
        "                    feature_names=X_train_caesarian.columns, \n",
        "                     class_names=Y_train_caesarian[\"Caesarian\"].astype('str').unique(), \n",
        "                     filled=True, rounded=True, \n",
        "                     special_characters=True) \n",
        "graph = graphviz.Source(dot_data) \n",
        "graph.render(\"caesarian\")\n",
        "graph"
      ],
      "metadata": {
        "colab": {
          "base_uri": "https://localhost:8080/",
          "height": 1000
        },
        "id": "L9PNKNzuiDS9",
        "outputId": "5621d0b6-334a-4b61-9957-3b864ccaa2e4"
      },
      "execution_count": 39,
      "outputs": [
        {
          "output_type": "stream",
          "name": "stdout",
          "text": [
            "0.5\n"
          ]
        },
        {
          "output_type": "execute_result",
          "data": {
            "text/plain": [
              "<graphviz.files.Source at 0x7f4369c52e50>"
            ],
            "image/svg+xml": "<?xml version=\"1.0\" encoding=\"UTF-8\" standalone=\"no\"?>\n<!DOCTYPE svg PUBLIC \"-//W3C//DTD SVG 1.1//EN\"\n \"http://www.w3.org/Graphics/SVG/1.1/DTD/svg11.dtd\">\n<!-- Generated by graphviz version 2.40.1 (20161225.0304)\n -->\n<!-- Title: Tree Pages: 1 -->\n<svg width=\"1627pt\" height=\"1385pt\"\n viewBox=\"0.00 0.00 1627.00 1385.00\" xmlns=\"http://www.w3.org/2000/svg\" xmlns:xlink=\"http://www.w3.org/1999/xlink\">\n<g id=\"graph0\" class=\"graph\" transform=\"scale(1 1) rotate(0) translate(4 1381)\">\n<title>Tree</title>\n<polygon fill=\"#ffffff\" stroke=\"transparent\" points=\"-4,4 -4,-1381 1623,-1381 1623,4 -4,4\"/>\n<!-- 0 -->\n<g id=\"node1\" class=\"node\">\n<title>0</title>\n<path fill=\"#dbedfa\" stroke=\"#000000\" d=\"M812,-1377C812,-1377 675,-1377 675,-1377 669,-1377 663,-1371 663,-1365 663,-1365 663,-1306 663,-1306 663,-1300 669,-1294 675,-1294 675,-1294 812,-1294 812,-1294 818,-1294 824,-1300 824,-1306 824,-1306 824,-1365 824,-1365 824,-1371 818,-1377 812,-1377\"/>\n<text text-anchor=\"start\" x=\"671\" y=\"-1361.8\" font-family=\"Helvetica,sans-Serif\" font-size=\"14.00\" fill=\"#000000\">Heart Problem_0 ≤ 0.5</text>\n<text text-anchor=\"start\" x=\"705.5\" y=\"-1346.8\" font-family=\"Helvetica,sans-Serif\" font-size=\"14.00\" fill=\"#000000\">gini = 0.495</text>\n<text text-anchor=\"start\" x=\"699.5\" y=\"-1331.8\" font-family=\"Helvetica,sans-Serif\" font-size=\"14.00\" fill=\"#000000\">samples = 60</text>\n<text text-anchor=\"start\" x=\"693.5\" y=\"-1316.8\" font-family=\"Helvetica,sans-Serif\" font-size=\"14.00\" fill=\"#000000\">value = [27, 33]</text>\n<text text-anchor=\"start\" x=\"714.5\" y=\"-1301.8\" font-family=\"Helvetica,sans-Serif\" font-size=\"14.00\" fill=\"#000000\">class = 1</text>\n</g>\n<!-- 1 -->\n<g id=\"node2\" class=\"node\">\n<title>1</title>\n<path fill=\"#70b8ec\" stroke=\"#000000\" d=\"M546.5,-1258C546.5,-1258 386.5,-1258 386.5,-1258 380.5,-1258 374.5,-1252 374.5,-1246 374.5,-1246 374.5,-1187 374.5,-1187 374.5,-1181 380.5,-1175 386.5,-1175 386.5,-1175 546.5,-1175 546.5,-1175 552.5,-1175 558.5,-1181 558.5,-1187 558.5,-1187 558.5,-1246 558.5,-1246 558.5,-1252 552.5,-1258 546.5,-1258\"/>\n<text text-anchor=\"start\" x=\"382.5\" y=\"-1242.8\" font-family=\"Helvetica,sans-Serif\" font-size=\"14.00\" fill=\"#000000\">Blood of Pressure_1 ≤ 0.5</text>\n<text text-anchor=\"start\" x=\"433\" y=\"-1227.8\" font-family=\"Helvetica,sans-Serif\" font-size=\"14.00\" fill=\"#000000\">gini = 0.34</text>\n<text text-anchor=\"start\" x=\"422.5\" y=\"-1212.8\" font-family=\"Helvetica,sans-Serif\" font-size=\"14.00\" fill=\"#000000\">samples = 23</text>\n<text text-anchor=\"start\" x=\"421\" y=\"-1197.8\" font-family=\"Helvetica,sans-Serif\" font-size=\"14.00\" fill=\"#000000\">value = [5, 18]</text>\n<text text-anchor=\"start\" x=\"437.5\" y=\"-1182.8\" font-family=\"Helvetica,sans-Serif\" font-size=\"14.00\" fill=\"#000000\">class = 1</text>\n</g>\n<!-- 0&#45;&gt;1 -->\n<g id=\"edge1\" class=\"edge\">\n<title>0&#45;&gt;1</title>\n<path fill=\"none\" stroke=\"#000000\" d=\"M662.6355,-1300.7604C633.1131,-1288.0775 599.3384,-1273.5678 568.2314,-1260.2041\"/>\n<polygon fill=\"#000000\" stroke=\"#000000\" points=\"569.2404,-1256.8283 558.6708,-1256.0969 566.4773,-1263.2599 569.2404,-1256.8283\"/>\n<text text-anchor=\"middle\" x=\"567.9354\" y=\"-1275.6169\" font-family=\"Helvetica,sans-Serif\" font-size=\"14.00\" fill=\"#000000\">True</text>\n</g>\n<!-- 16 -->\n<g id=\"node17\" class=\"node\">\n<title>16</title>\n<path fill=\"#f7d7c0\" stroke=\"#000000\" d=\"M1088.5,-1258C1088.5,-1258 996.5,-1258 996.5,-1258 990.5,-1258 984.5,-1252 984.5,-1246 984.5,-1246 984.5,-1187 984.5,-1187 984.5,-1181 990.5,-1175 996.5,-1175 996.5,-1175 1088.5,-1175 1088.5,-1175 1094.5,-1175 1100.5,-1181 1100.5,-1187 1100.5,-1187 1100.5,-1246 1100.5,-1246 1100.5,-1252 1094.5,-1258 1088.5,-1258\"/>\n<text text-anchor=\"start\" x=\"1003\" y=\"-1242.8\" font-family=\"Helvetica,sans-Serif\" font-size=\"14.00\" fill=\"#000000\">Age ≤ 0.765</text>\n<text text-anchor=\"start\" x=\"1004.5\" y=\"-1227.8\" font-family=\"Helvetica,sans-Serif\" font-size=\"14.00\" fill=\"#000000\">gini = 0.482</text>\n<text text-anchor=\"start\" x=\"998.5\" y=\"-1212.8\" font-family=\"Helvetica,sans-Serif\" font-size=\"14.00\" fill=\"#000000\">samples = 37</text>\n<text text-anchor=\"start\" x=\"992.5\" y=\"-1197.8\" font-family=\"Helvetica,sans-Serif\" font-size=\"14.00\" fill=\"#000000\">value = [22, 15]</text>\n<text text-anchor=\"start\" x=\"1013.5\" y=\"-1182.8\" font-family=\"Helvetica,sans-Serif\" font-size=\"14.00\" fill=\"#000000\">class = 0</text>\n</g>\n<!-- 0&#45;&gt;16 -->\n<g id=\"edge16\" class=\"edge\">\n<title>0&#45;&gt;16</title>\n<path fill=\"none\" stroke=\"#000000\" d=\"M824.0198,-1303.4536C871.1724,-1284.6872 930.0506,-1261.2541 974.8007,-1243.4439\"/>\n<polygon fill=\"#000000\" stroke=\"#000000\" points=\"976.1292,-1246.6822 984.1261,-1239.7324 973.5406,-1240.1784 976.1292,-1246.6822\"/>\n<text text-anchor=\"middle\" x=\"974.2384\" y=\"-1258.994\" font-family=\"Helvetica,sans-Serif\" font-size=\"14.00\" fill=\"#000000\">False</text>\n</g>\n<!-- 2 -->\n<g id=\"node3\" class=\"node\">\n<title>2</title>\n<path fill=\"#47a4e7\" stroke=\"#000000\" d=\"M216,-1139C216,-1139 133,-1139 133,-1139 127,-1139 121,-1133 121,-1127 121,-1127 121,-1068 121,-1068 121,-1062 127,-1056 133,-1056 133,-1056 216,-1056 216,-1056 222,-1056 228,-1062 228,-1068 228,-1068 228,-1127 228,-1127 228,-1133 222,-1139 216,-1139\"/>\n<text text-anchor=\"start\" x=\"135\" y=\"-1123.8\" font-family=\"Helvetica,sans-Serif\" font-size=\"14.00\" fill=\"#000000\">Age ≤ 0.564</text>\n<text text-anchor=\"start\" x=\"136.5\" y=\"-1108.8\" font-family=\"Helvetica,sans-Serif\" font-size=\"14.00\" fill=\"#000000\">gini = 0.124</text>\n<text text-anchor=\"start\" x=\"130.5\" y=\"-1093.8\" font-family=\"Helvetica,sans-Serif\" font-size=\"14.00\" fill=\"#000000\">samples = 15</text>\n<text text-anchor=\"start\" x=\"129\" y=\"-1078.8\" font-family=\"Helvetica,sans-Serif\" font-size=\"14.00\" fill=\"#000000\">value = [1, 14]</text>\n<text text-anchor=\"start\" x=\"145.5\" y=\"-1063.8\" font-family=\"Helvetica,sans-Serif\" font-size=\"14.00\" fill=\"#000000\">class = 1</text>\n</g>\n<!-- 1&#45;&gt;2 -->\n<g id=\"edge2\" class=\"edge\">\n<title>1&#45;&gt;2</title>\n<path fill=\"none\" stroke=\"#000000\" d=\"M374.1094,-1178.8477C329.5607,-1160.6925 277.279,-1139.386 237.3992,-1123.1336\"/>\n<polygon fill=\"#000000\" stroke=\"#000000\" points=\"238.6387,-1119.8593 228.0573,-1119.3264 235.9969,-1126.3417 238.6387,-1119.8593\"/>\n</g>\n<!-- 7 -->\n<g id=\"node8\" class=\"node\">\n<title>7</title>\n<path fill=\"#ffffff\" stroke=\"#000000\" d=\"M541.5,-1139C541.5,-1139 391.5,-1139 391.5,-1139 385.5,-1139 379.5,-1133 379.5,-1127 379.5,-1127 379.5,-1068 379.5,-1068 379.5,-1062 385.5,-1056 391.5,-1056 391.5,-1056 541.5,-1056 541.5,-1056 547.5,-1056 553.5,-1062 553.5,-1068 553.5,-1068 553.5,-1127 553.5,-1127 553.5,-1133 547.5,-1139 541.5,-1139\"/>\n<text text-anchor=\"start\" x=\"387.5\" y=\"-1123.8\" font-family=\"Helvetica,sans-Serif\" font-size=\"14.00\" fill=\"#000000\">Delivery number_1 ≤ 0.5</text>\n<text text-anchor=\"start\" x=\"437\" y=\"-1108.8\" font-family=\"Helvetica,sans-Serif\" font-size=\"14.00\" fill=\"#000000\">gini = 0.5</text>\n<text text-anchor=\"start\" x=\"427\" y=\"-1093.8\" font-family=\"Helvetica,sans-Serif\" font-size=\"14.00\" fill=\"#000000\">samples = 8</text>\n<text text-anchor=\"start\" x=\"425\" y=\"-1078.8\" font-family=\"Helvetica,sans-Serif\" font-size=\"14.00\" fill=\"#000000\">value = [4, 4]</text>\n<text text-anchor=\"start\" x=\"437.5\" y=\"-1063.8\" font-family=\"Helvetica,sans-Serif\" font-size=\"14.00\" fill=\"#000000\">class = 0</text>\n</g>\n<!-- 1&#45;&gt;7 -->\n<g id=\"edge7\" class=\"edge\">\n<title>1&#45;&gt;7</title>\n<path fill=\"none\" stroke=\"#000000\" d=\"M466.5,-1174.8796C466.5,-1166.6838 466.5,-1157.9891 466.5,-1149.5013\"/>\n<polygon fill=\"#000000\" stroke=\"#000000\" points=\"470.0001,-1149.298 466.5,-1139.2981 463.0001,-1149.2981 470.0001,-1149.298\"/>\n</g>\n<!-- 3 -->\n<g id=\"node4\" class=\"node\">\n<title>3</title>\n<path fill=\"#399de5\" stroke=\"#000000\" d=\"M95,-1012.5C95,-1012.5 12,-1012.5 12,-1012.5 6,-1012.5 0,-1006.5 0,-1000.5 0,-1000.5 0,-956.5 0,-956.5 0,-950.5 6,-944.5 12,-944.5 12,-944.5 95,-944.5 95,-944.5 101,-944.5 107,-950.5 107,-956.5 107,-956.5 107,-1000.5 107,-1000.5 107,-1006.5 101,-1012.5 95,-1012.5\"/>\n<text text-anchor=\"start\" x=\"24\" y=\"-997.3\" font-family=\"Helvetica,sans-Serif\" font-size=\"14.00\" fill=\"#000000\">gini = 0.0</text>\n<text text-anchor=\"start\" x=\"9.5\" y=\"-982.3\" font-family=\"Helvetica,sans-Serif\" font-size=\"14.00\" fill=\"#000000\">samples = 10</text>\n<text text-anchor=\"start\" x=\"8\" y=\"-967.3\" font-family=\"Helvetica,sans-Serif\" font-size=\"14.00\" fill=\"#000000\">value = [0, 10]</text>\n<text text-anchor=\"start\" x=\"24.5\" y=\"-952.3\" font-family=\"Helvetica,sans-Serif\" font-size=\"14.00\" fill=\"#000000\">class = 1</text>\n</g>\n<!-- 2&#45;&gt;3 -->\n<g id=\"edge3\" class=\"edge\">\n<title>2&#45;&gt;3</title>\n<path fill=\"none\" stroke=\"#000000\" d=\"M132.1801,-1055.8796C120.3283,-1044.2237 107.4505,-1031.5587 95.6109,-1019.9148\"/>\n<polygon fill=\"#000000\" stroke=\"#000000\" points=\"97.9756,-1017.3314 88.3917,-1012.8149 93.0673,-1022.3223 97.9756,-1017.3314\"/>\n</g>\n<!-- 4 -->\n<g id=\"node5\" class=\"node\">\n<title>4</title>\n<path fill=\"#6ab6ec\" stroke=\"#000000\" d=\"M212,-1020C212,-1020 137,-1020 137,-1020 131,-1020 125,-1014 125,-1008 125,-1008 125,-949 125,-949 125,-943 131,-937 137,-937 137,-937 212,-937 212,-937 218,-937 224,-943 224,-949 224,-949 224,-1008 224,-1008 224,-1014 218,-1020 212,-1020\"/>\n<text text-anchor=\"start\" x=\"135\" y=\"-1004.8\" font-family=\"Helvetica,sans-Serif\" font-size=\"14.00\" fill=\"#000000\">Age ≤ 0.765</text>\n<text text-anchor=\"start\" x=\"141\" y=\"-989.8\" font-family=\"Helvetica,sans-Serif\" font-size=\"14.00\" fill=\"#000000\">gini = 0.32</text>\n<text text-anchor=\"start\" x=\"135\" y=\"-974.8\" font-family=\"Helvetica,sans-Serif\" font-size=\"14.00\" fill=\"#000000\">samples = 5</text>\n<text text-anchor=\"start\" x=\"133\" y=\"-959.8\" font-family=\"Helvetica,sans-Serif\" font-size=\"14.00\" fill=\"#000000\">value = [1, 4]</text>\n<text text-anchor=\"start\" x=\"145.5\" y=\"-944.8\" font-family=\"Helvetica,sans-Serif\" font-size=\"14.00\" fill=\"#000000\">class = 1</text>\n</g>\n<!-- 2&#45;&gt;4 -->\n<g id=\"edge4\" class=\"edge\">\n<title>2&#45;&gt;4</title>\n<path fill=\"none\" stroke=\"#000000\" d=\"M174.5,-1055.8796C174.5,-1047.6838 174.5,-1038.9891 174.5,-1030.5013\"/>\n<polygon fill=\"#000000\" stroke=\"#000000\" points=\"178.0001,-1030.298 174.5,-1020.2981 171.0001,-1030.2981 178.0001,-1030.298\"/>\n</g>\n<!-- 5 -->\n<g id=\"node6\" class=\"node\">\n<title>5</title>\n<path fill=\"#e58139\" stroke=\"#000000\" d=\"M95,-893.5C95,-893.5 20,-893.5 20,-893.5 14,-893.5 8,-887.5 8,-881.5 8,-881.5 8,-837.5 8,-837.5 8,-831.5 14,-825.5 20,-825.5 20,-825.5 95,-825.5 95,-825.5 101,-825.5 107,-831.5 107,-837.5 107,-837.5 107,-881.5 107,-881.5 107,-887.5 101,-893.5 95,-893.5\"/>\n<text text-anchor=\"start\" x=\"28\" y=\"-878.3\" font-family=\"Helvetica,sans-Serif\" font-size=\"14.00\" fill=\"#000000\">gini = 0.0</text>\n<text text-anchor=\"start\" x=\"18\" y=\"-863.3\" font-family=\"Helvetica,sans-Serif\" font-size=\"14.00\" fill=\"#000000\">samples = 1</text>\n<text text-anchor=\"start\" x=\"16\" y=\"-848.3\" font-family=\"Helvetica,sans-Serif\" font-size=\"14.00\" fill=\"#000000\">value = [1, 0]</text>\n<text text-anchor=\"start\" x=\"28.5\" y=\"-833.3\" font-family=\"Helvetica,sans-Serif\" font-size=\"14.00\" fill=\"#000000\">class = 0</text>\n</g>\n<!-- 4&#45;&gt;5 -->\n<g id=\"edge5\" class=\"edge\">\n<title>4&#45;&gt;5</title>\n<path fill=\"none\" stroke=\"#000000\" d=\"M133.5791,-936.8796C122.2272,-925.3337 109.9018,-912.7976 98.543,-901.2446\"/>\n<polygon fill=\"#000000\" stroke=\"#000000\" points=\"100.7449,-898.4919 91.2382,-893.8149 95.7534,-903.3995 100.7449,-898.4919\"/>\n</g>\n<!-- 6 -->\n<g id=\"node7\" class=\"node\">\n<title>6</title>\n<path fill=\"#399de5\" stroke=\"#000000\" d=\"M212,-893.5C212,-893.5 137,-893.5 137,-893.5 131,-893.5 125,-887.5 125,-881.5 125,-881.5 125,-837.5 125,-837.5 125,-831.5 131,-825.5 137,-825.5 137,-825.5 212,-825.5 212,-825.5 218,-825.5 224,-831.5 224,-837.5 224,-837.5 224,-881.5 224,-881.5 224,-887.5 218,-893.5 212,-893.5\"/>\n<text text-anchor=\"start\" x=\"145\" y=\"-878.3\" font-family=\"Helvetica,sans-Serif\" font-size=\"14.00\" fill=\"#000000\">gini = 0.0</text>\n<text text-anchor=\"start\" x=\"135\" y=\"-863.3\" font-family=\"Helvetica,sans-Serif\" font-size=\"14.00\" fill=\"#000000\">samples = 4</text>\n<text text-anchor=\"start\" x=\"133\" y=\"-848.3\" font-family=\"Helvetica,sans-Serif\" font-size=\"14.00\" fill=\"#000000\">value = [0, 4]</text>\n<text text-anchor=\"start\" x=\"145.5\" y=\"-833.3\" font-family=\"Helvetica,sans-Serif\" font-size=\"14.00\" fill=\"#000000\">class = 1</text>\n</g>\n<!-- 4&#45;&gt;6 -->\n<g id=\"edge6\" class=\"edge\">\n<title>4&#45;&gt;6</title>\n<path fill=\"none\" stroke=\"#000000\" d=\"M174.5,-936.8796C174.5,-926.2134 174.5,-914.7021 174.5,-903.9015\"/>\n<polygon fill=\"#000000\" stroke=\"#000000\" points=\"178.0001,-903.8149 174.5,-893.8149 171.0001,-903.815 178.0001,-903.8149\"/>\n</g>\n<!-- 8 -->\n<g id=\"node9\" class=\"node\">\n<title>8</title>\n<path fill=\"#eeab7b\" stroke=\"#000000\" d=\"M446,-1020C446,-1020 371,-1020 371,-1020 365,-1020 359,-1014 359,-1008 359,-1008 359,-949 359,-949 359,-943 365,-937 371,-937 371,-937 446,-937 446,-937 452,-937 458,-943 458,-949 458,-949 458,-1008 458,-1008 458,-1014 452,-1020 446,-1020\"/>\n<text text-anchor=\"start\" x=\"369\" y=\"-1004.8\" font-family=\"Helvetica,sans-Serif\" font-size=\"14.00\" fill=\"#000000\">Age ≤ 1.466</text>\n<text text-anchor=\"start\" x=\"370.5\" y=\"-989.8\" font-family=\"Helvetica,sans-Serif\" font-size=\"14.00\" fill=\"#000000\">gini = 0.375</text>\n<text text-anchor=\"start\" x=\"369\" y=\"-974.8\" font-family=\"Helvetica,sans-Serif\" font-size=\"14.00\" fill=\"#000000\">samples = 4</text>\n<text text-anchor=\"start\" x=\"367\" y=\"-959.8\" font-family=\"Helvetica,sans-Serif\" font-size=\"14.00\" fill=\"#000000\">value = [3, 1]</text>\n<text text-anchor=\"start\" x=\"379.5\" y=\"-944.8\" font-family=\"Helvetica,sans-Serif\" font-size=\"14.00\" fill=\"#000000\">class = 0</text>\n</g>\n<!-- 7&#45;&gt;8 -->\n<g id=\"edge8\" class=\"edge\">\n<title>7&#45;&gt;8</title>\n<path fill=\"none\" stroke=\"#000000\" d=\"M446.2144,-1055.8796C442.0443,-1047.3236 437.6091,-1038.2238 433.3003,-1029.3833\"/>\n<polygon fill=\"#000000\" stroke=\"#000000\" points=\"436.3997,-1027.7538 428.8722,-1020.2981 430.1073,-1030.8207 436.3997,-1027.7538\"/>\n</g>\n<!-- 11 -->\n<g id=\"node12\" class=\"node\">\n<title>11</title>\n<path fill=\"#7bbeee\" stroke=\"#000000\" d=\"M563,-1020C563,-1020 488,-1020 488,-1020 482,-1020 476,-1014 476,-1008 476,-1008 476,-949 476,-949 476,-943 482,-937 488,-937 488,-937 563,-937 563,-937 569,-937 575,-943 575,-949 575,-949 575,-1008 575,-1008 575,-1014 569,-1020 563,-1020\"/>\n<text text-anchor=\"start\" x=\"486\" y=\"-1004.8\" font-family=\"Helvetica,sans-Serif\" font-size=\"14.00\" fill=\"#000000\">Age ≤ 0.063</text>\n<text text-anchor=\"start\" x=\"487.5\" y=\"-989.8\" font-family=\"Helvetica,sans-Serif\" font-size=\"14.00\" fill=\"#000000\">gini = 0.375</text>\n<text text-anchor=\"start\" x=\"486\" y=\"-974.8\" font-family=\"Helvetica,sans-Serif\" font-size=\"14.00\" fill=\"#000000\">samples = 4</text>\n<text text-anchor=\"start\" x=\"484\" y=\"-959.8\" font-family=\"Helvetica,sans-Serif\" font-size=\"14.00\" fill=\"#000000\">value = [1, 3]</text>\n<text text-anchor=\"start\" x=\"496.5\" y=\"-944.8\" font-family=\"Helvetica,sans-Serif\" font-size=\"14.00\" fill=\"#000000\">class = 1</text>\n</g>\n<!-- 7&#45;&gt;11 -->\n<g id=\"edge11\" class=\"edge\">\n<title>7&#45;&gt;11</title>\n<path fill=\"none\" stroke=\"#000000\" d=\"M487.1353,-1055.8796C491.3774,-1047.3236 495.889,-1038.2238 500.2721,-1029.3833\"/>\n<polygon fill=\"#000000\" stroke=\"#000000\" points=\"503.4703,-1030.8121 504.7766,-1020.2981 497.1988,-1027.7026 503.4703,-1030.8121\"/>\n</g>\n<!-- 9 -->\n<g id=\"node10\" class=\"node\">\n<title>9</title>\n<path fill=\"#e58139\" stroke=\"#000000\" d=\"M329,-893.5C329,-893.5 254,-893.5 254,-893.5 248,-893.5 242,-887.5 242,-881.5 242,-881.5 242,-837.5 242,-837.5 242,-831.5 248,-825.5 254,-825.5 254,-825.5 329,-825.5 329,-825.5 335,-825.5 341,-831.5 341,-837.5 341,-837.5 341,-881.5 341,-881.5 341,-887.5 335,-893.5 329,-893.5\"/>\n<text text-anchor=\"start\" x=\"262\" y=\"-878.3\" font-family=\"Helvetica,sans-Serif\" font-size=\"14.00\" fill=\"#000000\">gini = 0.0</text>\n<text text-anchor=\"start\" x=\"252\" y=\"-863.3\" font-family=\"Helvetica,sans-Serif\" font-size=\"14.00\" fill=\"#000000\">samples = 3</text>\n<text text-anchor=\"start\" x=\"250\" y=\"-848.3\" font-family=\"Helvetica,sans-Serif\" font-size=\"14.00\" fill=\"#000000\">value = [3, 0]</text>\n<text text-anchor=\"start\" x=\"262.5\" y=\"-833.3\" font-family=\"Helvetica,sans-Serif\" font-size=\"14.00\" fill=\"#000000\">class = 0</text>\n</g>\n<!-- 8&#45;&gt;9 -->\n<g id=\"edge9\" class=\"edge\">\n<title>8&#45;&gt;9</title>\n<path fill=\"none\" stroke=\"#000000\" d=\"M367.5791,-936.8796C356.2272,-925.3337 343.9018,-912.7976 332.543,-901.2446\"/>\n<polygon fill=\"#000000\" stroke=\"#000000\" points=\"334.7449,-898.4919 325.2382,-893.8149 329.7534,-903.3995 334.7449,-898.4919\"/>\n</g>\n<!-- 10 -->\n<g id=\"node11\" class=\"node\">\n<title>10</title>\n<path fill=\"#399de5\" stroke=\"#000000\" d=\"M446,-893.5C446,-893.5 371,-893.5 371,-893.5 365,-893.5 359,-887.5 359,-881.5 359,-881.5 359,-837.5 359,-837.5 359,-831.5 365,-825.5 371,-825.5 371,-825.5 446,-825.5 446,-825.5 452,-825.5 458,-831.5 458,-837.5 458,-837.5 458,-881.5 458,-881.5 458,-887.5 452,-893.5 446,-893.5\"/>\n<text text-anchor=\"start\" x=\"379\" y=\"-878.3\" font-family=\"Helvetica,sans-Serif\" font-size=\"14.00\" fill=\"#000000\">gini = 0.0</text>\n<text text-anchor=\"start\" x=\"369\" y=\"-863.3\" font-family=\"Helvetica,sans-Serif\" font-size=\"14.00\" fill=\"#000000\">samples = 1</text>\n<text text-anchor=\"start\" x=\"367\" y=\"-848.3\" font-family=\"Helvetica,sans-Serif\" font-size=\"14.00\" fill=\"#000000\">value = [0, 1]</text>\n<text text-anchor=\"start\" x=\"379.5\" y=\"-833.3\" font-family=\"Helvetica,sans-Serif\" font-size=\"14.00\" fill=\"#000000\">class = 1</text>\n</g>\n<!-- 8&#45;&gt;10 -->\n<g id=\"edge10\" class=\"edge\">\n<title>8&#45;&gt;10</title>\n<path fill=\"none\" stroke=\"#000000\" d=\"M408.5,-936.8796C408.5,-926.2134 408.5,-914.7021 408.5,-903.9015\"/>\n<polygon fill=\"#000000\" stroke=\"#000000\" points=\"412.0001,-903.8149 408.5,-893.8149 405.0001,-903.815 412.0001,-903.8149\"/>\n</g>\n<!-- 12 -->\n<g id=\"node13\" class=\"node\">\n<title>12</title>\n<path fill=\"#399de5\" stroke=\"#000000\" d=\"M563,-893.5C563,-893.5 488,-893.5 488,-893.5 482,-893.5 476,-887.5 476,-881.5 476,-881.5 476,-837.5 476,-837.5 476,-831.5 482,-825.5 488,-825.5 488,-825.5 563,-825.5 563,-825.5 569,-825.5 575,-831.5 575,-837.5 575,-837.5 575,-881.5 575,-881.5 575,-887.5 569,-893.5 563,-893.5\"/>\n<text text-anchor=\"start\" x=\"496\" y=\"-878.3\" font-family=\"Helvetica,sans-Serif\" font-size=\"14.00\" fill=\"#000000\">gini = 0.0</text>\n<text text-anchor=\"start\" x=\"486\" y=\"-863.3\" font-family=\"Helvetica,sans-Serif\" font-size=\"14.00\" fill=\"#000000\">samples = 1</text>\n<text text-anchor=\"start\" x=\"484\" y=\"-848.3\" font-family=\"Helvetica,sans-Serif\" font-size=\"14.00\" fill=\"#000000\">value = [0, 1]</text>\n<text text-anchor=\"start\" x=\"496.5\" y=\"-833.3\" font-family=\"Helvetica,sans-Serif\" font-size=\"14.00\" fill=\"#000000\">class = 1</text>\n</g>\n<!-- 11&#45;&gt;12 -->\n<g id=\"edge12\" class=\"edge\">\n<title>11&#45;&gt;12</title>\n<path fill=\"none\" stroke=\"#000000\" d=\"M525.5,-936.8796C525.5,-926.2134 525.5,-914.7021 525.5,-903.9015\"/>\n<polygon fill=\"#000000\" stroke=\"#000000\" points=\"529.0001,-903.8149 525.5,-893.8149 522.0001,-903.815 529.0001,-903.8149\"/>\n</g>\n<!-- 13 -->\n<g id=\"node14\" class=\"node\">\n<title>13</title>\n<path fill=\"#9ccef2\" stroke=\"#000000\" d=\"M680,-901C680,-901 605,-901 605,-901 599,-901 593,-895 593,-889 593,-889 593,-830 593,-830 593,-824 599,-818 605,-818 605,-818 680,-818 680,-818 686,-818 692,-824 692,-830 692,-830 692,-889 692,-889 692,-895 686,-901 680,-901\"/>\n<text text-anchor=\"start\" x=\"603\" y=\"-885.8\" font-family=\"Helvetica,sans-Serif\" font-size=\"14.00\" fill=\"#000000\">Age ≤ 0.564</text>\n<text text-anchor=\"start\" x=\"604.5\" y=\"-870.8\" font-family=\"Helvetica,sans-Serif\" font-size=\"14.00\" fill=\"#000000\">gini = 0.444</text>\n<text text-anchor=\"start\" x=\"603\" y=\"-855.8\" font-family=\"Helvetica,sans-Serif\" font-size=\"14.00\" fill=\"#000000\">samples = 3</text>\n<text text-anchor=\"start\" x=\"601\" y=\"-840.8\" font-family=\"Helvetica,sans-Serif\" font-size=\"14.00\" fill=\"#000000\">value = [1, 2]</text>\n<text text-anchor=\"start\" x=\"613.5\" y=\"-825.8\" font-family=\"Helvetica,sans-Serif\" font-size=\"14.00\" fill=\"#000000\">class = 1</text>\n</g>\n<!-- 11&#45;&gt;13 -->\n<g id=\"edge13\" class=\"edge\">\n<title>11&#45;&gt;13</title>\n<path fill=\"none\" stroke=\"#000000\" d=\"M566.4209,-936.8796C575.453,-927.6931 585.1013,-917.8798 594.3888,-908.4336\"/>\n<polygon fill=\"#000000\" stroke=\"#000000\" points=\"596.8893,-910.8827 601.4044,-901.2981 591.8977,-905.975 596.8893,-910.8827\"/>\n</g>\n<!-- 14 -->\n<g id=\"node15\" class=\"node\">\n<title>14</title>\n<path fill=\"#ffffff\" stroke=\"#000000\" d=\"M564,-774.5C564,-774.5 489,-774.5 489,-774.5 483,-774.5 477,-768.5 477,-762.5 477,-762.5 477,-718.5 477,-718.5 477,-712.5 483,-706.5 489,-706.5 489,-706.5 564,-706.5 564,-706.5 570,-706.5 576,-712.5 576,-718.5 576,-718.5 576,-762.5 576,-762.5 576,-768.5 570,-774.5 564,-774.5\"/>\n<text text-anchor=\"start\" x=\"497\" y=\"-759.3\" font-family=\"Helvetica,sans-Serif\" font-size=\"14.00\" fill=\"#000000\">gini = 0.5</text>\n<text text-anchor=\"start\" x=\"487\" y=\"-744.3\" font-family=\"Helvetica,sans-Serif\" font-size=\"14.00\" fill=\"#000000\">samples = 2</text>\n<text text-anchor=\"start\" x=\"485\" y=\"-729.3\" font-family=\"Helvetica,sans-Serif\" font-size=\"14.00\" fill=\"#000000\">value = [1, 1]</text>\n<text text-anchor=\"start\" x=\"497.5\" y=\"-714.3\" font-family=\"Helvetica,sans-Serif\" font-size=\"14.00\" fill=\"#000000\">class = 0</text>\n</g>\n<!-- 13&#45;&gt;14 -->\n<g id=\"edge14\" class=\"edge\">\n<title>13&#45;&gt;14</title>\n<path fill=\"none\" stroke=\"#000000\" d=\"M601.9288,-817.8796C590.674,-806.3337 578.4539,-793.7976 567.1922,-782.2446\"/>\n<polygon fill=\"#000000\" stroke=\"#000000\" points=\"569.4364,-779.5326 559.9499,-774.8149 564.4238,-784.4188 569.4364,-779.5326\"/>\n</g>\n<!-- 15 -->\n<g id=\"node16\" class=\"node\">\n<title>15</title>\n<path fill=\"#399de5\" stroke=\"#000000\" d=\"M681,-774.5C681,-774.5 606,-774.5 606,-774.5 600,-774.5 594,-768.5 594,-762.5 594,-762.5 594,-718.5 594,-718.5 594,-712.5 600,-706.5 606,-706.5 606,-706.5 681,-706.5 681,-706.5 687,-706.5 693,-712.5 693,-718.5 693,-718.5 693,-762.5 693,-762.5 693,-768.5 687,-774.5 681,-774.5\"/>\n<text text-anchor=\"start\" x=\"614\" y=\"-759.3\" font-family=\"Helvetica,sans-Serif\" font-size=\"14.00\" fill=\"#000000\">gini = 0.0</text>\n<text text-anchor=\"start\" x=\"604\" y=\"-744.3\" font-family=\"Helvetica,sans-Serif\" font-size=\"14.00\" fill=\"#000000\">samples = 1</text>\n<text text-anchor=\"start\" x=\"602\" y=\"-729.3\" font-family=\"Helvetica,sans-Serif\" font-size=\"14.00\" fill=\"#000000\">value = [0, 1]</text>\n<text text-anchor=\"start\" x=\"614.5\" y=\"-714.3\" font-family=\"Helvetica,sans-Serif\" font-size=\"14.00\" fill=\"#000000\">class = 1</text>\n</g>\n<!-- 13&#45;&gt;15 -->\n<g id=\"edge15\" class=\"edge\">\n<title>13&#45;&gt;15</title>\n<path fill=\"none\" stroke=\"#000000\" d=\"M642.8498,-817.8796C642.9394,-807.2134 643.0361,-795.7021 643.1269,-784.9015\"/>\n<polygon fill=\"#000000\" stroke=\"#000000\" points=\"646.6274,-784.844 643.2116,-774.8149 639.6276,-784.7851 646.6274,-784.844\"/>\n</g>\n<!-- 17 -->\n<g id=\"node18\" class=\"node\">\n<title>17</title>\n<path fill=\"#f1bd97\" stroke=\"#000000\" d=\"M1088.5,-1139C1088.5,-1139 996.5,-1139 996.5,-1139 990.5,-1139 984.5,-1133 984.5,-1127 984.5,-1127 984.5,-1068 984.5,-1068 984.5,-1062 990.5,-1056 996.5,-1056 996.5,-1056 1088.5,-1056 1088.5,-1056 1094.5,-1056 1100.5,-1062 1100.5,-1068 1100.5,-1068 1100.5,-1127 1100.5,-1127 1100.5,-1133 1094.5,-1139 1088.5,-1139\"/>\n<text text-anchor=\"start\" x=\"1001\" y=\"-1123.8\" font-family=\"Helvetica,sans-Serif\" font-size=\"14.00\" fill=\"#000000\">Age ≤ &#45;1.341</text>\n<text text-anchor=\"start\" x=\"1004.5\" y=\"-1108.8\" font-family=\"Helvetica,sans-Serif\" font-size=\"14.00\" fill=\"#000000\">gini = 0.437</text>\n<text text-anchor=\"start\" x=\"998.5\" y=\"-1093.8\" font-family=\"Helvetica,sans-Serif\" font-size=\"14.00\" fill=\"#000000\">samples = 31</text>\n<text text-anchor=\"start\" x=\"992.5\" y=\"-1078.8\" font-family=\"Helvetica,sans-Serif\" font-size=\"14.00\" fill=\"#000000\">value = [21, 10]</text>\n<text text-anchor=\"start\" x=\"1013.5\" y=\"-1063.8\" font-family=\"Helvetica,sans-Serif\" font-size=\"14.00\" fill=\"#000000\">class = 0</text>\n</g>\n<!-- 16&#45;&gt;17 -->\n<g id=\"edge17\" class=\"edge\">\n<title>16&#45;&gt;17</title>\n<path fill=\"none\" stroke=\"#000000\" d=\"M1042.5,-1174.8796C1042.5,-1166.6838 1042.5,-1157.9891 1042.5,-1149.5013\"/>\n<polygon fill=\"#000000\" stroke=\"#000000\" points=\"1046.0001,-1149.298 1042.5,-1139.2981 1039.0001,-1149.2981 1046.0001,-1149.298\"/>\n</g>\n<!-- 46 -->\n<g id=\"node47\" class=\"node\">\n<title>46</title>\n<path fill=\"#61b1ea\" stroke=\"#000000\" d=\"M1344,-1139C1344,-1139 1269,-1139 1269,-1139 1263,-1139 1257,-1133 1257,-1127 1257,-1127 1257,-1068 1257,-1068 1257,-1062 1263,-1056 1269,-1056 1269,-1056 1344,-1056 1344,-1056 1350,-1056 1356,-1062 1356,-1068 1356,-1068 1356,-1127 1356,-1127 1356,-1133 1350,-1139 1344,-1139\"/>\n<text text-anchor=\"start\" x=\"1267\" y=\"-1123.8\" font-family=\"Helvetica,sans-Serif\" font-size=\"14.00\" fill=\"#000000\">Age ≤ 1.266</text>\n<text text-anchor=\"start\" x=\"1268.5\" y=\"-1108.8\" font-family=\"Helvetica,sans-Serif\" font-size=\"14.00\" fill=\"#000000\">gini = 0.278</text>\n<text text-anchor=\"start\" x=\"1267\" y=\"-1093.8\" font-family=\"Helvetica,sans-Serif\" font-size=\"14.00\" fill=\"#000000\">samples = 6</text>\n<text text-anchor=\"start\" x=\"1265\" y=\"-1078.8\" font-family=\"Helvetica,sans-Serif\" font-size=\"14.00\" fill=\"#000000\">value = [1, 5]</text>\n<text text-anchor=\"start\" x=\"1277.5\" y=\"-1063.8\" font-family=\"Helvetica,sans-Serif\" font-size=\"14.00\" fill=\"#000000\">class = 1</text>\n</g>\n<!-- 16&#45;&gt;46 -->\n<g id=\"edge46\" class=\"edge\">\n<title>16&#45;&gt;46</title>\n<path fill=\"none\" stroke=\"#000000\" d=\"M1100.7627,-1190.2376C1144.3343,-1170.5974 1203.688,-1143.8433 1247.4484,-1124.1179\"/>\n<polygon fill=\"#000000\" stroke=\"#000000\" points=\"1249.1386,-1127.1953 1256.817,-1119.895 1246.262,-1120.8136 1249.1386,-1127.1953\"/>\n</g>\n<!-- 18 -->\n<g id=\"node19\" class=\"node\">\n<title>18</title>\n<path fill=\"#6ab6ec\" stroke=\"#000000\" d=\"M1000,-1020C1000,-1020 925,-1020 925,-1020 919,-1020 913,-1014 913,-1008 913,-1008 913,-949 913,-949 913,-943 919,-937 925,-937 925,-937 1000,-937 1000,-937 1006,-937 1012,-943 1012,-949 1012,-949 1012,-1008 1012,-1008 1012,-1014 1006,-1020 1000,-1020\"/>\n<text text-anchor=\"start\" x=\"921\" y=\"-1004.8\" font-family=\"Helvetica,sans-Serif\" font-size=\"14.00\" fill=\"#000000\">Age ≤ &#45;1.842</text>\n<text text-anchor=\"start\" x=\"929\" y=\"-989.8\" font-family=\"Helvetica,sans-Serif\" font-size=\"14.00\" fill=\"#000000\">gini = 0.32</text>\n<text text-anchor=\"start\" x=\"923\" y=\"-974.8\" font-family=\"Helvetica,sans-Serif\" font-size=\"14.00\" fill=\"#000000\">samples = 5</text>\n<text text-anchor=\"start\" x=\"921\" y=\"-959.8\" font-family=\"Helvetica,sans-Serif\" font-size=\"14.00\" fill=\"#000000\">value = [1, 4]</text>\n<text text-anchor=\"start\" x=\"933.5\" y=\"-944.8\" font-family=\"Helvetica,sans-Serif\" font-size=\"14.00\" fill=\"#000000\">class = 1</text>\n</g>\n<!-- 17&#45;&gt;18 -->\n<g id=\"edge18\" class=\"edge\">\n<title>17&#45;&gt;18</title>\n<path fill=\"none\" stroke=\"#000000\" d=\"M1014.5199,-1055.8796C1008.6469,-1047.1434 1002.3927,-1037.8404 996.3321,-1028.8253\"/>\n<polygon fill=\"#000000\" stroke=\"#000000\" points=\"999.0834,-1026.6444 990.5995,-1020.2981 993.2741,-1030.5498 999.0834,-1026.6444\"/>\n</g>\n<!-- 23 -->\n<g id=\"node24\" class=\"node\">\n<title>23</title>\n<path fill=\"#eda774\" stroke=\"#000000\" d=\"M1197.5,-1020C1197.5,-1020 1047.5,-1020 1047.5,-1020 1041.5,-1020 1035.5,-1014 1035.5,-1008 1035.5,-1008 1035.5,-949 1035.5,-949 1035.5,-943 1041.5,-937 1047.5,-937 1047.5,-937 1197.5,-937 1197.5,-937 1203.5,-937 1209.5,-943 1209.5,-949 1209.5,-949 1209.5,-1008 1209.5,-1008 1209.5,-1014 1203.5,-1020 1197.5,-1020\"/>\n<text text-anchor=\"start\" x=\"1043.5\" y=\"-1004.8\" font-family=\"Helvetica,sans-Serif\" font-size=\"14.00\" fill=\"#000000\">Delivery number_1 ≤ 0.5</text>\n<text text-anchor=\"start\" x=\"1084.5\" y=\"-989.8\" font-family=\"Helvetica,sans-Serif\" font-size=\"14.00\" fill=\"#000000\">gini = 0.355</text>\n<text text-anchor=\"start\" x=\"1078.5\" y=\"-974.8\" font-family=\"Helvetica,sans-Serif\" font-size=\"14.00\" fill=\"#000000\">samples = 26</text>\n<text text-anchor=\"start\" x=\"1077\" y=\"-959.8\" font-family=\"Helvetica,sans-Serif\" font-size=\"14.00\" fill=\"#000000\">value = [20, 6]</text>\n<text text-anchor=\"start\" x=\"1093.5\" y=\"-944.8\" font-family=\"Helvetica,sans-Serif\" font-size=\"14.00\" fill=\"#000000\">class = 0</text>\n</g>\n<!-- 17&#45;&gt;23 -->\n<g id=\"edge23\" class=\"edge\">\n<title>17&#45;&gt;23</title>\n<path fill=\"none\" stroke=\"#000000\" d=\"M1070.4801,-1055.8796C1076.3531,-1047.1434 1082.6073,-1037.8404 1088.6679,-1028.8253\"/>\n<polygon fill=\"#000000\" stroke=\"#000000\" points=\"1091.7259,-1030.5498 1094.4005,-1020.2981 1085.9166,-1026.6444 1091.7259,-1030.5498\"/>\n</g>\n<!-- 19 -->\n<g id=\"node20\" class=\"node\">\n<title>19</title>\n<path fill=\"#ffffff\" stroke=\"#000000\" d=\"M882.5,-901C882.5,-901 722.5,-901 722.5,-901 716.5,-901 710.5,-895 710.5,-889 710.5,-889 710.5,-830 710.5,-830 710.5,-824 716.5,-818 722.5,-818 722.5,-818 882.5,-818 882.5,-818 888.5,-818 894.5,-824 894.5,-830 894.5,-830 894.5,-889 894.5,-889 894.5,-895 888.5,-901 882.5,-901\"/>\n<text text-anchor=\"start\" x=\"718.5\" y=\"-885.8\" font-family=\"Helvetica,sans-Serif\" font-size=\"14.00\" fill=\"#000000\">Blood of Pressure_1 ≤ 0.5</text>\n<text text-anchor=\"start\" x=\"773\" y=\"-870.8\" font-family=\"Helvetica,sans-Serif\" font-size=\"14.00\" fill=\"#000000\">gini = 0.5</text>\n<text text-anchor=\"start\" x=\"763\" y=\"-855.8\" font-family=\"Helvetica,sans-Serif\" font-size=\"14.00\" fill=\"#000000\">samples = 2</text>\n<text text-anchor=\"start\" x=\"761\" y=\"-840.8\" font-family=\"Helvetica,sans-Serif\" font-size=\"14.00\" fill=\"#000000\">value = [1, 1]</text>\n<text text-anchor=\"start\" x=\"773.5\" y=\"-825.8\" font-family=\"Helvetica,sans-Serif\" font-size=\"14.00\" fill=\"#000000\">class = 0</text>\n</g>\n<!-- 18&#45;&gt;19 -->\n<g id=\"edge19\" class=\"edge\">\n<title>18&#45;&gt;19</title>\n<path fill=\"none\" stroke=\"#000000\" d=\"M912.7521,-941.5C898.2006,-930.6773 882.0831,-918.6899 866.7666,-907.2983\"/>\n<polygon fill=\"#000000\" stroke=\"#000000\" points=\"868.4677,-904.2016 858.3549,-901.0421 864.2902,-909.8184 868.4677,-904.2016\"/>\n</g>\n<!-- 22 -->\n<g id=\"node23\" class=\"node\">\n<title>22</title>\n<path fill=\"#399de5\" stroke=\"#000000\" d=\"M1000,-893.5C1000,-893.5 925,-893.5 925,-893.5 919,-893.5 913,-887.5 913,-881.5 913,-881.5 913,-837.5 913,-837.5 913,-831.5 919,-825.5 925,-825.5 925,-825.5 1000,-825.5 1000,-825.5 1006,-825.5 1012,-831.5 1012,-837.5 1012,-837.5 1012,-881.5 1012,-881.5 1012,-887.5 1006,-893.5 1000,-893.5\"/>\n<text text-anchor=\"start\" x=\"933\" y=\"-878.3\" font-family=\"Helvetica,sans-Serif\" font-size=\"14.00\" fill=\"#000000\">gini = 0.0</text>\n<text text-anchor=\"start\" x=\"923\" y=\"-863.3\" font-family=\"Helvetica,sans-Serif\" font-size=\"14.00\" fill=\"#000000\">samples = 3</text>\n<text text-anchor=\"start\" x=\"921\" y=\"-848.3\" font-family=\"Helvetica,sans-Serif\" font-size=\"14.00\" fill=\"#000000\">value = [0, 3]</text>\n<text text-anchor=\"start\" x=\"933.5\" y=\"-833.3\" font-family=\"Helvetica,sans-Serif\" font-size=\"14.00\" fill=\"#000000\">class = 1</text>\n</g>\n<!-- 18&#45;&gt;22 -->\n<g id=\"edge22\" class=\"edge\">\n<title>18&#45;&gt;22</title>\n<path fill=\"none\" stroke=\"#000000\" d=\"M962.5,-936.8796C962.5,-926.2134 962.5,-914.7021 962.5,-903.9015\"/>\n<polygon fill=\"#000000\" stroke=\"#000000\" points=\"966.0001,-903.8149 962.5,-893.8149 959.0001,-903.815 966.0001,-903.8149\"/>\n</g>\n<!-- 20 -->\n<g id=\"node21\" class=\"node\">\n<title>20</title>\n<path fill=\"#399de5\" stroke=\"#000000\" d=\"M820,-774.5C820,-774.5 745,-774.5 745,-774.5 739,-774.5 733,-768.5 733,-762.5 733,-762.5 733,-718.5 733,-718.5 733,-712.5 739,-706.5 745,-706.5 745,-706.5 820,-706.5 820,-706.5 826,-706.5 832,-712.5 832,-718.5 832,-718.5 832,-762.5 832,-762.5 832,-768.5 826,-774.5 820,-774.5\"/>\n<text text-anchor=\"start\" x=\"753\" y=\"-759.3\" font-family=\"Helvetica,sans-Serif\" font-size=\"14.00\" fill=\"#000000\">gini = 0.0</text>\n<text text-anchor=\"start\" x=\"743\" y=\"-744.3\" font-family=\"Helvetica,sans-Serif\" font-size=\"14.00\" fill=\"#000000\">samples = 1</text>\n<text text-anchor=\"start\" x=\"741\" y=\"-729.3\" font-family=\"Helvetica,sans-Serif\" font-size=\"14.00\" fill=\"#000000\">value = [0, 1]</text>\n<text text-anchor=\"start\" x=\"753.5\" y=\"-714.3\" font-family=\"Helvetica,sans-Serif\" font-size=\"14.00\" fill=\"#000000\">class = 1</text>\n</g>\n<!-- 19&#45;&gt;20 -->\n<g id=\"edge20\" class=\"edge\">\n<title>19&#45;&gt;20</title>\n<path fill=\"none\" stroke=\"#000000\" d=\"M795.505,-817.8796C793.7123,-807.2134 791.7777,-795.7021 789.9624,-784.9015\"/>\n<polygon fill=\"#000000\" stroke=\"#000000\" points=\"793.3763,-784.0965 788.2672,-774.8149 786.4731,-785.2568 793.3763,-784.0965\"/>\n</g>\n<!-- 21 -->\n<g id=\"node22\" class=\"node\">\n<title>21</title>\n<path fill=\"#e58139\" stroke=\"#000000\" d=\"M937,-774.5C937,-774.5 862,-774.5 862,-774.5 856,-774.5 850,-768.5 850,-762.5 850,-762.5 850,-718.5 850,-718.5 850,-712.5 856,-706.5 862,-706.5 862,-706.5 937,-706.5 937,-706.5 943,-706.5 949,-712.5 949,-718.5 949,-718.5 949,-762.5 949,-762.5 949,-768.5 943,-774.5 937,-774.5\"/>\n<text text-anchor=\"start\" x=\"870\" y=\"-759.3\" font-family=\"Helvetica,sans-Serif\" font-size=\"14.00\" fill=\"#000000\">gini = 0.0</text>\n<text text-anchor=\"start\" x=\"860\" y=\"-744.3\" font-family=\"Helvetica,sans-Serif\" font-size=\"14.00\" fill=\"#000000\">samples = 1</text>\n<text text-anchor=\"start\" x=\"858\" y=\"-729.3\" font-family=\"Helvetica,sans-Serif\" font-size=\"14.00\" fill=\"#000000\">value = [1, 0]</text>\n<text text-anchor=\"start\" x=\"870.5\" y=\"-714.3\" font-family=\"Helvetica,sans-Serif\" font-size=\"14.00\" fill=\"#000000\">class = 0</text>\n</g>\n<!-- 19&#45;&gt;21 -->\n<g id=\"edge21\" class=\"edge\">\n<title>19&#45;&gt;21</title>\n<path fill=\"none\" stroke=\"#000000\" d=\"M836.4259,-817.8796C845.7476,-806.4436 855.8612,-794.0363 865.2036,-782.575\"/>\n<polygon fill=\"#000000\" stroke=\"#000000\" points=\"867.9237,-784.7775 871.529,-774.8149 862.4979,-780.3548 867.9237,-784.7775\"/>\n</g>\n<!-- 24 -->\n<g id=\"node25\" class=\"node\">\n<title>24</title>\n<path fill=\"#f1ba93\" stroke=\"#000000\" d=\"M1202.5,-901C1202.5,-901 1042.5,-901 1042.5,-901 1036.5,-901 1030.5,-895 1030.5,-889 1030.5,-889 1030.5,-830 1030.5,-830 1030.5,-824 1036.5,-818 1042.5,-818 1042.5,-818 1202.5,-818 1202.5,-818 1208.5,-818 1214.5,-824 1214.5,-830 1214.5,-830 1214.5,-889 1214.5,-889 1214.5,-895 1208.5,-901 1202.5,-901\"/>\n<text text-anchor=\"start\" x=\"1038.5\" y=\"-885.8\" font-family=\"Helvetica,sans-Serif\" font-size=\"14.00\" fill=\"#000000\">Blood of Pressure_2 ≤ 0.5</text>\n<text text-anchor=\"start\" x=\"1089\" y=\"-870.8\" font-family=\"Helvetica,sans-Serif\" font-size=\"14.00\" fill=\"#000000\">gini = 0.43</text>\n<text text-anchor=\"start\" x=\"1078.5\" y=\"-855.8\" font-family=\"Helvetica,sans-Serif\" font-size=\"14.00\" fill=\"#000000\">samples = 16</text>\n<text text-anchor=\"start\" x=\"1077\" y=\"-840.8\" font-family=\"Helvetica,sans-Serif\" font-size=\"14.00\" fill=\"#000000\">value = [11, 5]</text>\n<text text-anchor=\"start\" x=\"1093.5\" y=\"-825.8\" font-family=\"Helvetica,sans-Serif\" font-size=\"14.00\" fill=\"#000000\">class = 0</text>\n</g>\n<!-- 23&#45;&gt;24 -->\n<g id=\"edge24\" class=\"edge\">\n<title>23&#45;&gt;24</title>\n<path fill=\"none\" stroke=\"#000000\" d=\"M1122.5,-936.8796C1122.5,-928.6838 1122.5,-919.9891 1122.5,-911.5013\"/>\n<polygon fill=\"#000000\" stroke=\"#000000\" points=\"1126.0001,-911.298 1122.5,-901.2981 1119.0001,-911.2981 1126.0001,-911.298\"/>\n</g>\n<!-- 39 -->\n<g id=\"node40\" class=\"node\">\n<title>39</title>\n<path fill=\"#e88f4f\" stroke=\"#000000\" d=\"M1372.5,-901C1372.5,-901 1244.5,-901 1244.5,-901 1238.5,-901 1232.5,-895 1232.5,-889 1232.5,-889 1232.5,-830 1232.5,-830 1232.5,-824 1238.5,-818 1244.5,-818 1244.5,-818 1372.5,-818 1372.5,-818 1378.5,-818 1384.5,-824 1384.5,-830 1384.5,-830 1384.5,-889 1384.5,-889 1384.5,-895 1378.5,-901 1372.5,-901\"/>\n<text text-anchor=\"start\" x=\"1240.5\" y=\"-885.8\" font-family=\"Helvetica,sans-Serif\" font-size=\"14.00\" fill=\"#000000\">Delivery time_2 ≤ 0.5</text>\n<text text-anchor=\"start\" x=\"1275\" y=\"-870.8\" font-family=\"Helvetica,sans-Serif\" font-size=\"14.00\" fill=\"#000000\">gini = 0.18</text>\n<text text-anchor=\"start\" x=\"1264.5\" y=\"-855.8\" font-family=\"Helvetica,sans-Serif\" font-size=\"14.00\" fill=\"#000000\">samples = 10</text>\n<text text-anchor=\"start\" x=\"1267\" y=\"-840.8\" font-family=\"Helvetica,sans-Serif\" font-size=\"14.00\" fill=\"#000000\">value = [9, 1]</text>\n<text text-anchor=\"start\" x=\"1279.5\" y=\"-825.8\" font-family=\"Helvetica,sans-Serif\" font-size=\"14.00\" fill=\"#000000\">class = 0</text>\n</g>\n<!-- 23&#45;&gt;39 -->\n<g id=\"edge39\" class=\"edge\">\n<title>23&#45;&gt;39</title>\n<path fill=\"none\" stroke=\"#000000\" d=\"M1187.5538,-936.8796C1202.8454,-927.0962 1219.2484,-916.6019 1234.886,-906.5971\"/>\n<polygon fill=\"#000000\" stroke=\"#000000\" points=\"1236.9457,-909.4345 1243.483,-901.0969 1233.1732,-903.538 1236.9457,-909.4345\"/>\n</g>\n<!-- 25 -->\n<g id=\"node26\" class=\"node\">\n<title>25</title>\n<path fill=\"#f8dbc6\" stroke=\"#000000\" d=\"M1062.5,-782C1062.5,-782 982.5,-782 982.5,-782 976.5,-782 970.5,-776 970.5,-770 970.5,-770 970.5,-711 970.5,-711 970.5,-705 976.5,-699 982.5,-699 982.5,-699 1062.5,-699 1062.5,-699 1068.5,-699 1074.5,-705 1074.5,-711 1074.5,-711 1074.5,-770 1074.5,-770 1074.5,-776 1068.5,-782 1062.5,-782\"/>\n<text text-anchor=\"start\" x=\"983\" y=\"-766.8\" font-family=\"Helvetica,sans-Serif\" font-size=\"14.00\" fill=\"#000000\">Age ≤ 0.263</text>\n<text text-anchor=\"start\" x=\"984.5\" y=\"-751.8\" font-family=\"Helvetica,sans-Serif\" font-size=\"14.00\" fill=\"#000000\">gini = 0.486</text>\n<text text-anchor=\"start\" x=\"978.5\" y=\"-736.8\" font-family=\"Helvetica,sans-Serif\" font-size=\"14.00\" fill=\"#000000\">samples = 12</text>\n<text text-anchor=\"start\" x=\"981\" y=\"-721.8\" font-family=\"Helvetica,sans-Serif\" font-size=\"14.00\" fill=\"#000000\">value = [7, 5]</text>\n<text text-anchor=\"start\" x=\"993.5\" y=\"-706.8\" font-family=\"Helvetica,sans-Serif\" font-size=\"14.00\" fill=\"#000000\">class = 0</text>\n</g>\n<!-- 24&#45;&gt;25 -->\n<g id=\"edge25\" class=\"edge\">\n<title>24&#45;&gt;25</title>\n<path fill=\"none\" stroke=\"#000000\" d=\"M1087.5249,-817.8796C1079.9565,-808.8733 1071.8819,-799.2644 1064.088,-789.9897\"/>\n<polygon fill=\"#000000\" stroke=\"#000000\" points=\"1066.7374,-787.7022 1057.6244,-782.2981 1061.3784,-792.2056 1066.7374,-787.7022\"/>\n</g>\n<!-- 38 -->\n<g id=\"node39\" class=\"node\">\n<title>38</title>\n<path fill=\"#e58139\" stroke=\"#000000\" d=\"M1180,-774.5C1180,-774.5 1105,-774.5 1105,-774.5 1099,-774.5 1093,-768.5 1093,-762.5 1093,-762.5 1093,-718.5 1093,-718.5 1093,-712.5 1099,-706.5 1105,-706.5 1105,-706.5 1180,-706.5 1180,-706.5 1186,-706.5 1192,-712.5 1192,-718.5 1192,-718.5 1192,-762.5 1192,-762.5 1192,-768.5 1186,-774.5 1180,-774.5\"/>\n<text text-anchor=\"start\" x=\"1113\" y=\"-759.3\" font-family=\"Helvetica,sans-Serif\" font-size=\"14.00\" fill=\"#000000\">gini = 0.0</text>\n<text text-anchor=\"start\" x=\"1103\" y=\"-744.3\" font-family=\"Helvetica,sans-Serif\" font-size=\"14.00\" fill=\"#000000\">samples = 4</text>\n<text text-anchor=\"start\" x=\"1101\" y=\"-729.3\" font-family=\"Helvetica,sans-Serif\" font-size=\"14.00\" fill=\"#000000\">value = [4, 0]</text>\n<text text-anchor=\"start\" x=\"1113.5\" y=\"-714.3\" font-family=\"Helvetica,sans-Serif\" font-size=\"14.00\" fill=\"#000000\">class = 0</text>\n</g>\n<!-- 24&#45;&gt;38 -->\n<g id=\"edge38\" class=\"edge\">\n<title>24&#45;&gt;38</title>\n<path fill=\"none\" stroke=\"#000000\" d=\"M1129.495,-817.8796C1131.2877,-807.2134 1133.2223,-795.7021 1135.0376,-784.9015\"/>\n<polygon fill=\"#000000\" stroke=\"#000000\" points=\"1138.5269,-785.2568 1136.7328,-774.8149 1131.6237,-784.0965 1138.5269,-785.2568\"/>\n</g>\n<!-- 26 -->\n<g id=\"node27\" class=\"node\">\n<title>26</title>\n<path fill=\"#ffffff\" stroke=\"#000000\" d=\"M1055.5,-663C1055.5,-663 975.5,-663 975.5,-663 969.5,-663 963.5,-657 963.5,-651 963.5,-651 963.5,-592 963.5,-592 963.5,-586 969.5,-580 975.5,-580 975.5,-580 1055.5,-580 1055.5,-580 1061.5,-580 1067.5,-586 1067.5,-592 1067.5,-592 1067.5,-651 1067.5,-651 1067.5,-657 1061.5,-663 1055.5,-663\"/>\n<text text-anchor=\"start\" x=\"974\" y=\"-647.8\" font-family=\"Helvetica,sans-Serif\" font-size=\"14.00\" fill=\"#000000\">Age ≤ &#45;0.238</text>\n<text text-anchor=\"start\" x=\"986\" y=\"-632.8\" font-family=\"Helvetica,sans-Serif\" font-size=\"14.00\" fill=\"#000000\">gini = 0.5</text>\n<text text-anchor=\"start\" x=\"971.5\" y=\"-617.8\" font-family=\"Helvetica,sans-Serif\" font-size=\"14.00\" fill=\"#000000\">samples = 10</text>\n<text text-anchor=\"start\" x=\"974\" y=\"-602.8\" font-family=\"Helvetica,sans-Serif\" font-size=\"14.00\" fill=\"#000000\">value = [5, 5]</text>\n<text text-anchor=\"start\" x=\"986.5\" y=\"-587.8\" font-family=\"Helvetica,sans-Serif\" font-size=\"14.00\" fill=\"#000000\">class = 0</text>\n</g>\n<!-- 25&#45;&gt;26 -->\n<g id=\"edge26\" class=\"edge\">\n<title>25&#45;&gt;26</title>\n<path fill=\"none\" stroke=\"#000000\" d=\"M1020.0517,-698.8796C1019.5696,-690.6838 1019.0582,-681.9891 1018.5589,-673.5013\"/>\n<polygon fill=\"#000000\" stroke=\"#000000\" points=\"1022.04,-673.0753 1017.9587,-663.2981 1015.0521,-673.4864 1022.04,-673.0753\"/>\n</g>\n<!-- 37 -->\n<g id=\"node38\" class=\"node\">\n<title>37</title>\n<path fill=\"#e58139\" stroke=\"#000000\" d=\"M1173,-655.5C1173,-655.5 1098,-655.5 1098,-655.5 1092,-655.5 1086,-649.5 1086,-643.5 1086,-643.5 1086,-599.5 1086,-599.5 1086,-593.5 1092,-587.5 1098,-587.5 1098,-587.5 1173,-587.5 1173,-587.5 1179,-587.5 1185,-593.5 1185,-599.5 1185,-599.5 1185,-643.5 1185,-643.5 1185,-649.5 1179,-655.5 1173,-655.5\"/>\n<text text-anchor=\"start\" x=\"1106\" y=\"-640.3\" font-family=\"Helvetica,sans-Serif\" font-size=\"14.00\" fill=\"#000000\">gini = 0.0</text>\n<text text-anchor=\"start\" x=\"1096\" y=\"-625.3\" font-family=\"Helvetica,sans-Serif\" font-size=\"14.00\" fill=\"#000000\">samples = 2</text>\n<text text-anchor=\"start\" x=\"1094\" y=\"-610.3\" font-family=\"Helvetica,sans-Serif\" font-size=\"14.00\" fill=\"#000000\">value = [2, 0]</text>\n<text text-anchor=\"start\" x=\"1106.5\" y=\"-595.3\" font-family=\"Helvetica,sans-Serif\" font-size=\"14.00\" fill=\"#000000\">class = 0</text>\n</g>\n<!-- 25&#45;&gt;37 -->\n<g id=\"edge37\" class=\"edge\">\n<title>25&#45;&gt;37</title>\n<path fill=\"none\" stroke=\"#000000\" d=\"M1062.0219,-698.8796C1072.9857,-687.3337 1084.8897,-674.7976 1095.8601,-663.2446\"/>\n<polygon fill=\"#000000\" stroke=\"#000000\" points=\"1098.5673,-665.4766 1102.9152,-655.8149 1093.4913,-660.6564 1098.5673,-665.4766\"/>\n</g>\n<!-- 27 -->\n<g id=\"node28\" class=\"node\">\n<title>27</title>\n<path fill=\"#f5cdb0\" stroke=\"#000000\" d=\"M996,-544C996,-544 921,-544 921,-544 915,-544 909,-538 909,-532 909,-532 909,-473 909,-473 909,-467 915,-461 921,-461 921,-461 996,-461 996,-461 1002,-461 1008,-467 1008,-473 1008,-473 1008,-532 1008,-532 1008,-538 1002,-544 996,-544\"/>\n<text text-anchor=\"start\" x=\"921\" y=\"-528.8\" font-family=\"Helvetica,sans-Serif\" font-size=\"14.00\" fill=\"#000000\">Age ≤ &#45;1.04</text>\n<text text-anchor=\"start\" x=\"920.5\" y=\"-513.8\" font-family=\"Helvetica,sans-Serif\" font-size=\"14.00\" fill=\"#000000\">gini = 0.469</text>\n<text text-anchor=\"start\" x=\"919\" y=\"-498.8\" font-family=\"Helvetica,sans-Serif\" font-size=\"14.00\" fill=\"#000000\">samples = 8</text>\n<text text-anchor=\"start\" x=\"917\" y=\"-483.8\" font-family=\"Helvetica,sans-Serif\" font-size=\"14.00\" fill=\"#000000\">value = [5, 3]</text>\n<text text-anchor=\"start\" x=\"929.5\" y=\"-468.8\" font-family=\"Helvetica,sans-Serif\" font-size=\"14.00\" fill=\"#000000\">class = 0</text>\n</g>\n<!-- 26&#45;&gt;27 -->\n<g id=\"edge27\" class=\"edge\">\n<title>26&#45;&gt;27</title>\n<path fill=\"none\" stroke=\"#000000\" d=\"M995.5642,-579.8796C991.4659,-571.3236 987.1072,-562.2238 982.8727,-553.3833\"/>\n<polygon fill=\"#000000\" stroke=\"#000000\" points=\"985.9975,-551.8049 978.5209,-544.2981 979.6843,-554.8288 985.9975,-551.8049\"/>\n</g>\n<!-- 36 -->\n<g id=\"node37\" class=\"node\">\n<title>36</title>\n<path fill=\"#399de5\" stroke=\"#000000\" d=\"M1113,-536.5C1113,-536.5 1038,-536.5 1038,-536.5 1032,-536.5 1026,-530.5 1026,-524.5 1026,-524.5 1026,-480.5 1026,-480.5 1026,-474.5 1032,-468.5 1038,-468.5 1038,-468.5 1113,-468.5 1113,-468.5 1119,-468.5 1125,-474.5 1125,-480.5 1125,-480.5 1125,-524.5 1125,-524.5 1125,-530.5 1119,-536.5 1113,-536.5\"/>\n<text text-anchor=\"start\" x=\"1046\" y=\"-521.3\" font-family=\"Helvetica,sans-Serif\" font-size=\"14.00\" fill=\"#000000\">gini = 0.0</text>\n<text text-anchor=\"start\" x=\"1036\" y=\"-506.3\" font-family=\"Helvetica,sans-Serif\" font-size=\"14.00\" fill=\"#000000\">samples = 2</text>\n<text text-anchor=\"start\" x=\"1034\" y=\"-491.3\" font-family=\"Helvetica,sans-Serif\" font-size=\"14.00\" fill=\"#000000\">value = [0, 2]</text>\n<text text-anchor=\"start\" x=\"1046.5\" y=\"-476.3\" font-family=\"Helvetica,sans-Serif\" font-size=\"14.00\" fill=\"#000000\">class = 1</text>\n</g>\n<!-- 26&#45;&gt;36 -->\n<g id=\"edge36\" class=\"edge\">\n<title>26&#45;&gt;36</title>\n<path fill=\"none\" stroke=\"#000000\" d=\"M1036.4851,-579.8796C1042.0293,-568.8835 1048.0264,-556.9893 1053.6169,-545.9015\"/>\n<polygon fill=\"#000000\" stroke=\"#000000\" points=\"1056.8214,-547.3199 1058.1984,-536.8149 1050.5709,-544.1684 1056.8214,-547.3199\"/>\n</g>\n<!-- 28 -->\n<g id=\"node29\" class=\"node\">\n<title>28</title>\n<path fill=\"#399de5\" stroke=\"#000000\" d=\"M916,-417.5C916,-417.5 841,-417.5 841,-417.5 835,-417.5 829,-411.5 829,-405.5 829,-405.5 829,-361.5 829,-361.5 829,-355.5 835,-349.5 841,-349.5 841,-349.5 916,-349.5 916,-349.5 922,-349.5 928,-355.5 928,-361.5 928,-361.5 928,-405.5 928,-405.5 928,-411.5 922,-417.5 916,-417.5\"/>\n<text text-anchor=\"start\" x=\"849\" y=\"-402.3\" font-family=\"Helvetica,sans-Serif\" font-size=\"14.00\" fill=\"#000000\">gini = 0.0</text>\n<text text-anchor=\"start\" x=\"839\" y=\"-387.3\" font-family=\"Helvetica,sans-Serif\" font-size=\"14.00\" fill=\"#000000\">samples = 1</text>\n<text text-anchor=\"start\" x=\"837\" y=\"-372.3\" font-family=\"Helvetica,sans-Serif\" font-size=\"14.00\" fill=\"#000000\">value = [0, 1]</text>\n<text text-anchor=\"start\" x=\"849.5\" y=\"-357.3\" font-family=\"Helvetica,sans-Serif\" font-size=\"14.00\" fill=\"#000000\">class = 1</text>\n</g>\n<!-- 27&#45;&gt;28 -->\n<g id=\"edge28\" class=\"edge\">\n<title>27&#45;&gt;28</title>\n<path fill=\"none\" stroke=\"#000000\" d=\"M930.5199,-460.8796C922.9797,-449.6636 914.8113,-437.5131 907.2309,-426.2372\"/>\n<polygon fill=\"#000000\" stroke=\"#000000\" points=\"910.0527,-424.1612 901.5689,-417.8149 904.2434,-428.0667 910.0527,-424.1612\"/>\n</g>\n<!-- 29 -->\n<g id=\"node30\" class=\"node\">\n<title>29</title>\n<path fill=\"#efb388\" stroke=\"#000000\" d=\"M1118.5,-425C1118.5,-425 958.5,-425 958.5,-425 952.5,-425 946.5,-419 946.5,-413 946.5,-413 946.5,-354 946.5,-354 946.5,-348 952.5,-342 958.5,-342 958.5,-342 1118.5,-342 1118.5,-342 1124.5,-342 1130.5,-348 1130.5,-354 1130.5,-354 1130.5,-413 1130.5,-413 1130.5,-419 1124.5,-425 1118.5,-425\"/>\n<text text-anchor=\"start\" x=\"954.5\" y=\"-409.8\" font-family=\"Helvetica,sans-Serif\" font-size=\"14.00\" fill=\"#000000\">Blood of Pressure_1 ≤ 0.5</text>\n<text text-anchor=\"start\" x=\"1000.5\" y=\"-394.8\" font-family=\"Helvetica,sans-Serif\" font-size=\"14.00\" fill=\"#000000\">gini = 0.408</text>\n<text text-anchor=\"start\" x=\"999\" y=\"-379.8\" font-family=\"Helvetica,sans-Serif\" font-size=\"14.00\" fill=\"#000000\">samples = 7</text>\n<text text-anchor=\"start\" x=\"997\" y=\"-364.8\" font-family=\"Helvetica,sans-Serif\" font-size=\"14.00\" fill=\"#000000\">value = [5, 2]</text>\n<text text-anchor=\"start\" x=\"1009.5\" y=\"-349.8\" font-family=\"Helvetica,sans-Serif\" font-size=\"14.00\" fill=\"#000000\">class = 0</text>\n</g>\n<!-- 27&#45;&gt;29 -->\n<g id=\"edge29\" class=\"edge\">\n<title>27&#45;&gt;29</title>\n<path fill=\"none\" stroke=\"#000000\" d=\"M986.4801,-460.8796C992.3531,-452.1434 998.6073,-442.8404 1004.6679,-433.8253\"/>\n<polygon fill=\"#000000\" stroke=\"#000000\" points=\"1007.7259,-435.5498 1010.4005,-425.2981 1001.9166,-431.6444 1007.7259,-435.5498\"/>\n</g>\n<!-- 30 -->\n<g id=\"node31\" class=\"node\">\n<title>30</title>\n<path fill=\"#f6d5bd\" stroke=\"#000000\" d=\"M1018,-306C1018,-306 943,-306 943,-306 937,-306 931,-300 931,-294 931,-294 931,-235 931,-235 931,-229 937,-223 943,-223 943,-223 1018,-223 1018,-223 1024,-223 1030,-229 1030,-235 1030,-235 1030,-294 1030,-294 1030,-300 1024,-306 1018,-306\"/>\n<text text-anchor=\"start\" x=\"939\" y=\"-290.8\" font-family=\"Helvetica,sans-Serif\" font-size=\"14.00\" fill=\"#000000\">Age ≤ &#45;0.439</text>\n<text text-anchor=\"start\" x=\"947\" y=\"-275.8\" font-family=\"Helvetica,sans-Serif\" font-size=\"14.00\" fill=\"#000000\">gini = 0.48</text>\n<text text-anchor=\"start\" x=\"941\" y=\"-260.8\" font-family=\"Helvetica,sans-Serif\" font-size=\"14.00\" fill=\"#000000\">samples = 5</text>\n<text text-anchor=\"start\" x=\"939\" y=\"-245.8\" font-family=\"Helvetica,sans-Serif\" font-size=\"14.00\" fill=\"#000000\">value = [3, 2]</text>\n<text text-anchor=\"start\" x=\"951.5\" y=\"-230.8\" font-family=\"Helvetica,sans-Serif\" font-size=\"14.00\" fill=\"#000000\">class = 0</text>\n</g>\n<!-- 29&#45;&gt;30 -->\n<g id=\"edge30\" class=\"edge\">\n<title>29&#45;&gt;30</title>\n<path fill=\"none\" stroke=\"#000000\" d=\"M1018.2144,-341.8796C1014.0443,-333.3236 1009.6091,-324.2238 1005.3003,-315.3833\"/>\n<polygon fill=\"#000000\" stroke=\"#000000\" points=\"1008.3997,-313.7538 1000.8722,-306.2981 1002.1073,-316.8207 1008.3997,-313.7538\"/>\n</g>\n<!-- 35 -->\n<g id=\"node36\" class=\"node\">\n<title>35</title>\n<path fill=\"#e58139\" stroke=\"#000000\" d=\"M1135,-298.5C1135,-298.5 1060,-298.5 1060,-298.5 1054,-298.5 1048,-292.5 1048,-286.5 1048,-286.5 1048,-242.5 1048,-242.5 1048,-236.5 1054,-230.5 1060,-230.5 1060,-230.5 1135,-230.5 1135,-230.5 1141,-230.5 1147,-236.5 1147,-242.5 1147,-242.5 1147,-286.5 1147,-286.5 1147,-292.5 1141,-298.5 1135,-298.5\"/>\n<text text-anchor=\"start\" x=\"1068\" y=\"-283.3\" font-family=\"Helvetica,sans-Serif\" font-size=\"14.00\" fill=\"#000000\">gini = 0.0</text>\n<text text-anchor=\"start\" x=\"1058\" y=\"-268.3\" font-family=\"Helvetica,sans-Serif\" font-size=\"14.00\" fill=\"#000000\">samples = 2</text>\n<text text-anchor=\"start\" x=\"1056\" y=\"-253.3\" font-family=\"Helvetica,sans-Serif\" font-size=\"14.00\" fill=\"#000000\">value = [2, 0]</text>\n<text text-anchor=\"start\" x=\"1068.5\" y=\"-238.3\" font-family=\"Helvetica,sans-Serif\" font-size=\"14.00\" fill=\"#000000\">class = 0</text>\n</g>\n<!-- 29&#45;&gt;35 -->\n<g id=\"edge35\" class=\"edge\">\n<title>29&#45;&gt;35</title>\n<path fill=\"none\" stroke=\"#000000\" d=\"M1059.1353,-341.8796C1064.5872,-330.8835 1070.4843,-318.9893 1075.9816,-307.9015\"/>\n<polygon fill=\"#000000\" stroke=\"#000000\" points=\"1079.1804,-309.3289 1080.4867,-298.8149 1072.9089,-306.2195 1079.1804,-309.3289\"/>\n</g>\n<!-- 31 -->\n<g id=\"node32\" class=\"node\">\n<title>31</title>\n<path fill=\"#ffffff\" stroke=\"#000000\" d=\"M972.5,-187C972.5,-187 844.5,-187 844.5,-187 838.5,-187 832.5,-181 832.5,-175 832.5,-175 832.5,-116 832.5,-116 832.5,-110 838.5,-104 844.5,-104 844.5,-104 972.5,-104 972.5,-104 978.5,-104 984.5,-110 984.5,-116 984.5,-116 984.5,-175 984.5,-175 984.5,-181 978.5,-187 972.5,-187\"/>\n<text text-anchor=\"start\" x=\"840.5\" y=\"-171.8\" font-family=\"Helvetica,sans-Serif\" font-size=\"14.00\" fill=\"#000000\">Delivery time_0 ≤ 0.5</text>\n<text text-anchor=\"start\" x=\"879\" y=\"-156.8\" font-family=\"Helvetica,sans-Serif\" font-size=\"14.00\" fill=\"#000000\">gini = 0.5</text>\n<text text-anchor=\"start\" x=\"869\" y=\"-141.8\" font-family=\"Helvetica,sans-Serif\" font-size=\"14.00\" fill=\"#000000\">samples = 4</text>\n<text text-anchor=\"start\" x=\"867\" y=\"-126.8\" font-family=\"Helvetica,sans-Serif\" font-size=\"14.00\" fill=\"#000000\">value = [2, 2]</text>\n<text text-anchor=\"start\" x=\"879.5\" y=\"-111.8\" font-family=\"Helvetica,sans-Serif\" font-size=\"14.00\" fill=\"#000000\">class = 0</text>\n</g>\n<!-- 30&#45;&gt;31 -->\n<g id=\"edge31\" class=\"edge\">\n<title>30&#45;&gt;31</title>\n<path fill=\"none\" stroke=\"#000000\" d=\"M955.3179,-222.8796C950.0867,-214.2335 944.5195,-205.0322 939.1177,-196.1042\"/>\n<polygon fill=\"#000000\" stroke=\"#000000\" points=\"941.9608,-194.0421 933.7896,-187.2981 935.9717,-197.6658 941.9608,-194.0421\"/>\n</g>\n<!-- 34 -->\n<g id=\"node35\" class=\"node\">\n<title>34</title>\n<path fill=\"#e58139\" stroke=\"#000000\" d=\"M1090,-179.5C1090,-179.5 1015,-179.5 1015,-179.5 1009,-179.5 1003,-173.5 1003,-167.5 1003,-167.5 1003,-123.5 1003,-123.5 1003,-117.5 1009,-111.5 1015,-111.5 1015,-111.5 1090,-111.5 1090,-111.5 1096,-111.5 1102,-117.5 1102,-123.5 1102,-123.5 1102,-167.5 1102,-167.5 1102,-173.5 1096,-179.5 1090,-179.5\"/>\n<text text-anchor=\"start\" x=\"1023\" y=\"-164.3\" font-family=\"Helvetica,sans-Serif\" font-size=\"14.00\" fill=\"#000000\">gini = 0.0</text>\n<text text-anchor=\"start\" x=\"1013\" y=\"-149.3\" font-family=\"Helvetica,sans-Serif\" font-size=\"14.00\" fill=\"#000000\">samples = 1</text>\n<text text-anchor=\"start\" x=\"1011\" y=\"-134.3\" font-family=\"Helvetica,sans-Serif\" font-size=\"14.00\" fill=\"#000000\">value = [1, 0]</text>\n<text text-anchor=\"start\" x=\"1023.5\" y=\"-119.3\" font-family=\"Helvetica,sans-Serif\" font-size=\"14.00\" fill=\"#000000\">class = 0</text>\n</g>\n<!-- 30&#45;&gt;34 -->\n<g id=\"edge34\" class=\"edge\">\n<title>30&#45;&gt;34</title>\n<path fill=\"none\" stroke=\"#000000\" d=\"M1005.6821,-222.8796C1012.4017,-211.7735 1019.6757,-199.7513 1026.4414,-188.5691\"/>\n<polygon fill=\"#000000\" stroke=\"#000000\" points=\"1029.5559,-190.1826 1031.738,-179.8149 1023.5668,-186.5589 1029.5559,-190.1826\"/>\n</g>\n<!-- 32 -->\n<g id=\"node33\" class=\"node\">\n<title>32</title>\n<path fill=\"#ffffff\" stroke=\"#000000\" d=\"M888,-68C888,-68 813,-68 813,-68 807,-68 801,-62 801,-56 801,-56 801,-12 801,-12 801,-6 807,0 813,0 813,0 888,0 888,0 894,0 900,-6 900,-12 900,-12 900,-56 900,-56 900,-62 894,-68 888,-68\"/>\n<text text-anchor=\"start\" x=\"821\" y=\"-52.8\" font-family=\"Helvetica,sans-Serif\" font-size=\"14.00\" fill=\"#000000\">gini = 0.5</text>\n<text text-anchor=\"start\" x=\"811\" y=\"-37.8\" font-family=\"Helvetica,sans-Serif\" font-size=\"14.00\" fill=\"#000000\">samples = 2</text>\n<text text-anchor=\"start\" x=\"809\" y=\"-22.8\" font-family=\"Helvetica,sans-Serif\" font-size=\"14.00\" fill=\"#000000\">value = [1, 1]</text>\n<text text-anchor=\"start\" x=\"821.5\" y=\"-7.8\" font-family=\"Helvetica,sans-Serif\" font-size=\"14.00\" fill=\"#000000\">class = 0</text>\n</g>\n<!-- 31&#45;&gt;32 -->\n<g id=\"edge32\" class=\"edge\">\n<title>31&#45;&gt;32</title>\n<path fill=\"none\" stroke=\"#000000\" d=\"M886.9029,-103.9815C882.3612,-95.2504 877.5598,-86.0202 872.9863,-77.2281\"/>\n<polygon fill=\"#000000\" stroke=\"#000000\" points=\"876.0431,-75.52 868.3233,-68.2637 869.8331,-78.7504 876.0431,-75.52\"/>\n</g>\n<!-- 33 -->\n<g id=\"node34\" class=\"node\">\n<title>33</title>\n<path fill=\"#ffffff\" stroke=\"#000000\" d=\"M1005,-68C1005,-68 930,-68 930,-68 924,-68 918,-62 918,-56 918,-56 918,-12 918,-12 918,-6 924,0 930,0 930,0 1005,0 1005,0 1011,0 1017,-6 1017,-12 1017,-12 1017,-56 1017,-56 1017,-62 1011,-68 1005,-68\"/>\n<text text-anchor=\"start\" x=\"938\" y=\"-52.8\" font-family=\"Helvetica,sans-Serif\" font-size=\"14.00\" fill=\"#000000\">gini = 0.5</text>\n<text text-anchor=\"start\" x=\"928\" y=\"-37.8\" font-family=\"Helvetica,sans-Serif\" font-size=\"14.00\" fill=\"#000000\">samples = 2</text>\n<text text-anchor=\"start\" x=\"926\" y=\"-22.8\" font-family=\"Helvetica,sans-Serif\" font-size=\"14.00\" fill=\"#000000\">value = [1, 1]</text>\n<text text-anchor=\"start\" x=\"938.5\" y=\"-7.8\" font-family=\"Helvetica,sans-Serif\" font-size=\"14.00\" fill=\"#000000\">class = 0</text>\n</g>\n<!-- 31&#45;&gt;33 -->\n<g id=\"edge33\" class=\"edge\">\n<title>31&#45;&gt;33</title>\n<path fill=\"none\" stroke=\"#000000\" d=\"M930.4694,-103.9815C935.0895,-95.2504 939.9736,-86.0202 944.626,-77.2281\"/>\n<polygon fill=\"#000000\" stroke=\"#000000\" points=\"947.7859,-78.7395 949.3694,-68.2637 941.5987,-75.4655 947.7859,-78.7395\"/>\n</g>\n<!-- 40 -->\n<g id=\"node41\" class=\"node\">\n<title>40</title>\n<path fill=\"#e58139\" stroke=\"#000000\" d=\"M1311,-774.5C1311,-774.5 1236,-774.5 1236,-774.5 1230,-774.5 1224,-768.5 1224,-762.5 1224,-762.5 1224,-718.5 1224,-718.5 1224,-712.5 1230,-706.5 1236,-706.5 1236,-706.5 1311,-706.5 1311,-706.5 1317,-706.5 1323,-712.5 1323,-718.5 1323,-718.5 1323,-762.5 1323,-762.5 1323,-768.5 1317,-774.5 1311,-774.5\"/>\n<text text-anchor=\"start\" x=\"1244\" y=\"-759.3\" font-family=\"Helvetica,sans-Serif\" font-size=\"14.00\" fill=\"#000000\">gini = 0.0</text>\n<text text-anchor=\"start\" x=\"1234\" y=\"-744.3\" font-family=\"Helvetica,sans-Serif\" font-size=\"14.00\" fill=\"#000000\">samples = 5</text>\n<text text-anchor=\"start\" x=\"1232\" y=\"-729.3\" font-family=\"Helvetica,sans-Serif\" font-size=\"14.00\" fill=\"#000000\">value = [5, 0]</text>\n<text text-anchor=\"start\" x=\"1244.5\" y=\"-714.3\" font-family=\"Helvetica,sans-Serif\" font-size=\"14.00\" fill=\"#000000\">class = 0</text>\n</g>\n<!-- 39&#45;&gt;40 -->\n<g id=\"edge40\" class=\"edge\">\n<title>39&#45;&gt;40</title>\n<path fill=\"none\" stroke=\"#000000\" d=\"M1296.2587,-817.8796C1293.0892,-807.1034 1289.6661,-795.4647 1286.4611,-784.5677\"/>\n<polygon fill=\"#000000\" stroke=\"#000000\" points=\"1289.7721,-783.421 1283.5926,-774.8149 1283.0566,-785.3962 1289.7721,-783.421\"/>\n</g>\n<!-- 41 -->\n<g id=\"node42\" class=\"node\">\n<title>41</title>\n<path fill=\"#eca06a\" stroke=\"#000000\" d=\"M1428,-782C1428,-782 1353,-782 1353,-782 1347,-782 1341,-776 1341,-770 1341,-770 1341,-711 1341,-711 1341,-705 1347,-699 1353,-699 1353,-699 1428,-699 1428,-699 1434,-699 1440,-705 1440,-711 1440,-711 1440,-770 1440,-770 1440,-776 1434,-782 1428,-782\"/>\n<text text-anchor=\"start\" x=\"1349\" y=\"-766.8\" font-family=\"Helvetica,sans-Serif\" font-size=\"14.00\" fill=\"#000000\">Age ≤ &#45;0.238</text>\n<text text-anchor=\"start\" x=\"1357\" y=\"-751.8\" font-family=\"Helvetica,sans-Serif\" font-size=\"14.00\" fill=\"#000000\">gini = 0.32</text>\n<text text-anchor=\"start\" x=\"1351\" y=\"-736.8\" font-family=\"Helvetica,sans-Serif\" font-size=\"14.00\" fill=\"#000000\">samples = 5</text>\n<text text-anchor=\"start\" x=\"1349\" y=\"-721.8\" font-family=\"Helvetica,sans-Serif\" font-size=\"14.00\" fill=\"#000000\">value = [4, 1]</text>\n<text text-anchor=\"start\" x=\"1361.5\" y=\"-706.8\" font-family=\"Helvetica,sans-Serif\" font-size=\"14.00\" fill=\"#000000\">class = 0</text>\n</g>\n<!-- 39&#45;&gt;41 -->\n<g id=\"edge41\" class=\"edge\">\n<title>39&#45;&gt;41</title>\n<path fill=\"none\" stroke=\"#000000\" d=\"M1337.1796,-817.8796C1343.2615,-809.0534 1349.7422,-799.6485 1356.0141,-790.5466\"/>\n<polygon fill=\"#000000\" stroke=\"#000000\" points=\"1358.9059,-792.5184 1361.698,-782.2981 1353.1418,-788.5465 1358.9059,-792.5184\"/>\n</g>\n<!-- 42 -->\n<g id=\"node43\" class=\"node\">\n<title>42</title>\n<path fill=\"#f2c09c\" stroke=\"#000000\" d=\"M1318,-663C1318,-663 1243,-663 1243,-663 1237,-663 1231,-657 1231,-651 1231,-651 1231,-592 1231,-592 1231,-586 1237,-580 1243,-580 1243,-580 1318,-580 1318,-580 1324,-580 1330,-586 1330,-592 1330,-592 1330,-651 1330,-651 1330,-657 1324,-663 1318,-663\"/>\n<text text-anchor=\"start\" x=\"1239\" y=\"-647.8\" font-family=\"Helvetica,sans-Serif\" font-size=\"14.00\" fill=\"#000000\">Age ≤ &#45;0.539</text>\n<text text-anchor=\"start\" x=\"1242.5\" y=\"-632.8\" font-family=\"Helvetica,sans-Serif\" font-size=\"14.00\" fill=\"#000000\">gini = 0.444</text>\n<text text-anchor=\"start\" x=\"1241\" y=\"-617.8\" font-family=\"Helvetica,sans-Serif\" font-size=\"14.00\" fill=\"#000000\">samples = 3</text>\n<text text-anchor=\"start\" x=\"1239\" y=\"-602.8\" font-family=\"Helvetica,sans-Serif\" font-size=\"14.00\" fill=\"#000000\">value = [2, 1]</text>\n<text text-anchor=\"start\" x=\"1251.5\" y=\"-587.8\" font-family=\"Helvetica,sans-Serif\" font-size=\"14.00\" fill=\"#000000\">class = 0</text>\n</g>\n<!-- 41&#45;&gt;42 -->\n<g id=\"edge42\" class=\"edge\">\n<title>41&#45;&gt;42</title>\n<path fill=\"none\" stroke=\"#000000\" d=\"M1352.0273,-698.8796C1343.6189,-689.7832 1334.6424,-680.0722 1325.9897,-670.7116\"/>\n<polygon fill=\"#000000\" stroke=\"#000000\" points=\"1328.495,-668.2656 1319.1369,-663.2981 1323.3547,-673.0172 1328.495,-668.2656\"/>\n</g>\n<!-- 45 -->\n<g id=\"node46\" class=\"node\">\n<title>45</title>\n<path fill=\"#e58139\" stroke=\"#000000\" d=\"M1435,-655.5C1435,-655.5 1360,-655.5 1360,-655.5 1354,-655.5 1348,-649.5 1348,-643.5 1348,-643.5 1348,-599.5 1348,-599.5 1348,-593.5 1354,-587.5 1360,-587.5 1360,-587.5 1435,-587.5 1435,-587.5 1441,-587.5 1447,-593.5 1447,-599.5 1447,-599.5 1447,-643.5 1447,-643.5 1447,-649.5 1441,-655.5 1435,-655.5\"/>\n<text text-anchor=\"start\" x=\"1368\" y=\"-640.3\" font-family=\"Helvetica,sans-Serif\" font-size=\"14.00\" fill=\"#000000\">gini = 0.0</text>\n<text text-anchor=\"start\" x=\"1358\" y=\"-625.3\" font-family=\"Helvetica,sans-Serif\" font-size=\"14.00\" fill=\"#000000\">samples = 2</text>\n<text text-anchor=\"start\" x=\"1356\" y=\"-610.3\" font-family=\"Helvetica,sans-Serif\" font-size=\"14.00\" fill=\"#000000\">value = [2, 0]</text>\n<text text-anchor=\"start\" x=\"1368.5\" y=\"-595.3\" font-family=\"Helvetica,sans-Serif\" font-size=\"14.00\" fill=\"#000000\">class = 0</text>\n</g>\n<!-- 41&#45;&gt;45 -->\n<g id=\"edge45\" class=\"edge\">\n<title>41&#45;&gt;45</title>\n<path fill=\"none\" stroke=\"#000000\" d=\"M1392.9483,-698.8796C1393.5757,-688.2134 1394.2528,-676.7021 1394.8881,-665.9015\"/>\n<polygon fill=\"#000000\" stroke=\"#000000\" points=\"1398.3881,-666.0032 1395.4815,-655.8149 1391.4002,-665.5921 1398.3881,-666.0032\"/>\n</g>\n<!-- 43 -->\n<g id=\"node44\" class=\"node\">\n<title>43</title>\n<path fill=\"#e58139\" stroke=\"#000000\" d=\"M1274,-536.5C1274,-536.5 1199,-536.5 1199,-536.5 1193,-536.5 1187,-530.5 1187,-524.5 1187,-524.5 1187,-480.5 1187,-480.5 1187,-474.5 1193,-468.5 1199,-468.5 1199,-468.5 1274,-468.5 1274,-468.5 1280,-468.5 1286,-474.5 1286,-480.5 1286,-480.5 1286,-524.5 1286,-524.5 1286,-530.5 1280,-536.5 1274,-536.5\"/>\n<text text-anchor=\"start\" x=\"1207\" y=\"-521.3\" font-family=\"Helvetica,sans-Serif\" font-size=\"14.00\" fill=\"#000000\">gini = 0.0</text>\n<text text-anchor=\"start\" x=\"1197\" y=\"-506.3\" font-family=\"Helvetica,sans-Serif\" font-size=\"14.00\" fill=\"#000000\">samples = 1</text>\n<text text-anchor=\"start\" x=\"1195\" y=\"-491.3\" font-family=\"Helvetica,sans-Serif\" font-size=\"14.00\" fill=\"#000000\">value = [1, 0]</text>\n<text text-anchor=\"start\" x=\"1207.5\" y=\"-476.3\" font-family=\"Helvetica,sans-Serif\" font-size=\"14.00\" fill=\"#000000\">class = 0</text>\n</g>\n<!-- 42&#45;&gt;43 -->\n<g id=\"edge43\" class=\"edge\">\n<title>42&#45;&gt;43</title>\n<path fill=\"none\" stroke=\"#000000\" d=\"M1265.1109,-579.8796C1261.0858,-568.9935 1256.7352,-557.227 1252.6707,-546.2344\"/>\n<polygon fill=\"#000000\" stroke=\"#000000\" points=\"1255.9387,-544.9805 1249.1879,-536.8149 1249.3732,-547.4082 1255.9387,-544.9805\"/>\n</g>\n<!-- 44 -->\n<g id=\"node45\" class=\"node\">\n<title>44</title>\n<path fill=\"#ffffff\" stroke=\"#000000\" d=\"M1391,-536.5C1391,-536.5 1316,-536.5 1316,-536.5 1310,-536.5 1304,-530.5 1304,-524.5 1304,-524.5 1304,-480.5 1304,-480.5 1304,-474.5 1310,-468.5 1316,-468.5 1316,-468.5 1391,-468.5 1391,-468.5 1397,-468.5 1403,-474.5 1403,-480.5 1403,-480.5 1403,-524.5 1403,-524.5 1403,-530.5 1397,-536.5 1391,-536.5\"/>\n<text text-anchor=\"start\" x=\"1324\" y=\"-521.3\" font-family=\"Helvetica,sans-Serif\" font-size=\"14.00\" fill=\"#000000\">gini = 0.5</text>\n<text text-anchor=\"start\" x=\"1314\" y=\"-506.3\" font-family=\"Helvetica,sans-Serif\" font-size=\"14.00\" fill=\"#000000\">samples = 2</text>\n<text text-anchor=\"start\" x=\"1312\" y=\"-491.3\" font-family=\"Helvetica,sans-Serif\" font-size=\"14.00\" fill=\"#000000\">value = [1, 1]</text>\n<text text-anchor=\"start\" x=\"1324.5\" y=\"-476.3\" font-family=\"Helvetica,sans-Serif\" font-size=\"14.00\" fill=\"#000000\">class = 0</text>\n</g>\n<!-- 42&#45;&gt;44 -->\n<g id=\"edge44\" class=\"edge\">\n<title>42&#45;&gt;44</title>\n<path fill=\"none\" stroke=\"#000000\" d=\"M1306.0319,-579.8796C1312.8448,-568.7735 1320.2198,-556.7513 1327.0794,-545.5691\"/>\n<polygon fill=\"#000000\" stroke=\"#000000\" points=\"1330.204,-547.1691 1332.4497,-536.8149 1324.2372,-543.5087 1330.204,-547.1691\"/>\n</g>\n<!-- 47 -->\n<g id=\"node48\" class=\"node\">\n<title>47</title>\n<path fill=\"#399de5\" stroke=\"#000000\" d=\"M1344,-1012.5C1344,-1012.5 1269,-1012.5 1269,-1012.5 1263,-1012.5 1257,-1006.5 1257,-1000.5 1257,-1000.5 1257,-956.5 1257,-956.5 1257,-950.5 1263,-944.5 1269,-944.5 1269,-944.5 1344,-944.5 1344,-944.5 1350,-944.5 1356,-950.5 1356,-956.5 1356,-956.5 1356,-1000.5 1356,-1000.5 1356,-1006.5 1350,-1012.5 1344,-1012.5\"/>\n<text text-anchor=\"start\" x=\"1277\" y=\"-997.3\" font-family=\"Helvetica,sans-Serif\" font-size=\"14.00\" fill=\"#000000\">gini = 0.0</text>\n<text text-anchor=\"start\" x=\"1267\" y=\"-982.3\" font-family=\"Helvetica,sans-Serif\" font-size=\"14.00\" fill=\"#000000\">samples = 4</text>\n<text text-anchor=\"start\" x=\"1265\" y=\"-967.3\" font-family=\"Helvetica,sans-Serif\" font-size=\"14.00\" fill=\"#000000\">value = [0, 4]</text>\n<text text-anchor=\"start\" x=\"1277.5\" y=\"-952.3\" font-family=\"Helvetica,sans-Serif\" font-size=\"14.00\" fill=\"#000000\">class = 1</text>\n</g>\n<!-- 46&#45;&gt;47 -->\n<g id=\"edge47\" class=\"edge\">\n<title>46&#45;&gt;47</title>\n<path fill=\"none\" stroke=\"#000000\" d=\"M1306.5,-1055.8796C1306.5,-1045.2134 1306.5,-1033.7021 1306.5,-1022.9015\"/>\n<polygon fill=\"#000000\" stroke=\"#000000\" points=\"1310.0001,-1022.8149 1306.5,-1012.8149 1303.0001,-1022.815 1310.0001,-1022.8149\"/>\n</g>\n<!-- 48 -->\n<g id=\"node49\" class=\"node\">\n<title>48</title>\n<path fill=\"#ffffff\" stroke=\"#000000\" d=\"M1490,-1020C1490,-1020 1415,-1020 1415,-1020 1409,-1020 1403,-1014 1403,-1008 1403,-1008 1403,-949 1403,-949 1403,-943 1409,-937 1415,-937 1415,-937 1490,-937 1490,-937 1496,-937 1502,-943 1502,-949 1502,-949 1502,-1008 1502,-1008 1502,-1014 1496,-1020 1490,-1020\"/>\n<text text-anchor=\"start\" x=\"1413\" y=\"-1004.8\" font-family=\"Helvetica,sans-Serif\" font-size=\"14.00\" fill=\"#000000\">Age ≤ 1.567</text>\n<text text-anchor=\"start\" x=\"1423\" y=\"-989.8\" font-family=\"Helvetica,sans-Serif\" font-size=\"14.00\" fill=\"#000000\">gini = 0.5</text>\n<text text-anchor=\"start\" x=\"1413\" y=\"-974.8\" font-family=\"Helvetica,sans-Serif\" font-size=\"14.00\" fill=\"#000000\">samples = 2</text>\n<text text-anchor=\"start\" x=\"1411\" y=\"-959.8\" font-family=\"Helvetica,sans-Serif\" font-size=\"14.00\" fill=\"#000000\">value = [1, 1]</text>\n<text text-anchor=\"start\" x=\"1423.5\" y=\"-944.8\" font-family=\"Helvetica,sans-Serif\" font-size=\"14.00\" fill=\"#000000\">class = 0</text>\n</g>\n<!-- 46&#45;&gt;48 -->\n<g id=\"edge48\" class=\"edge\">\n<title>46&#45;&gt;48</title>\n<path fill=\"none\" stroke=\"#000000\" d=\"M1356.3366,-1056.8798C1368.7871,-1046.7318 1382.2405,-1035.7663 1395.0274,-1025.3441\"/>\n<polygon fill=\"#000000\" stroke=\"#000000\" points=\"1397.3479,-1027.9681 1402.888,-1018.9371 1392.9253,-1022.5421 1397.3479,-1027.9681\"/>\n</g>\n<!-- 49 -->\n<g id=\"node50\" class=\"node\">\n<title>49</title>\n<path fill=\"#e58139\" stroke=\"#000000\" d=\"M1490,-893.5C1490,-893.5 1415,-893.5 1415,-893.5 1409,-893.5 1403,-887.5 1403,-881.5 1403,-881.5 1403,-837.5 1403,-837.5 1403,-831.5 1409,-825.5 1415,-825.5 1415,-825.5 1490,-825.5 1490,-825.5 1496,-825.5 1502,-831.5 1502,-837.5 1502,-837.5 1502,-881.5 1502,-881.5 1502,-887.5 1496,-893.5 1490,-893.5\"/>\n<text text-anchor=\"start\" x=\"1423\" y=\"-878.3\" font-family=\"Helvetica,sans-Serif\" font-size=\"14.00\" fill=\"#000000\">gini = 0.0</text>\n<text text-anchor=\"start\" x=\"1413\" y=\"-863.3\" font-family=\"Helvetica,sans-Serif\" font-size=\"14.00\" fill=\"#000000\">samples = 1</text>\n<text text-anchor=\"start\" x=\"1411\" y=\"-848.3\" font-family=\"Helvetica,sans-Serif\" font-size=\"14.00\" fill=\"#000000\">value = [1, 0]</text>\n<text text-anchor=\"start\" x=\"1423.5\" y=\"-833.3\" font-family=\"Helvetica,sans-Serif\" font-size=\"14.00\" fill=\"#000000\">class = 0</text>\n</g>\n<!-- 48&#45;&gt;49 -->\n<g id=\"edge49\" class=\"edge\">\n<title>48&#45;&gt;49</title>\n<path fill=\"none\" stroke=\"#000000\" d=\"M1452.5,-936.8796C1452.5,-926.2134 1452.5,-914.7021 1452.5,-903.9015\"/>\n<polygon fill=\"#000000\" stroke=\"#000000\" points=\"1456.0001,-903.8149 1452.5,-893.8149 1449.0001,-903.815 1456.0001,-903.8149\"/>\n</g>\n<!-- 50 -->\n<g id=\"node51\" class=\"node\">\n<title>50</title>\n<path fill=\"#399de5\" stroke=\"#000000\" d=\"M1607,-893.5C1607,-893.5 1532,-893.5 1532,-893.5 1526,-893.5 1520,-887.5 1520,-881.5 1520,-881.5 1520,-837.5 1520,-837.5 1520,-831.5 1526,-825.5 1532,-825.5 1532,-825.5 1607,-825.5 1607,-825.5 1613,-825.5 1619,-831.5 1619,-837.5 1619,-837.5 1619,-881.5 1619,-881.5 1619,-887.5 1613,-893.5 1607,-893.5\"/>\n<text text-anchor=\"start\" x=\"1540\" y=\"-878.3\" font-family=\"Helvetica,sans-Serif\" font-size=\"14.00\" fill=\"#000000\">gini = 0.0</text>\n<text text-anchor=\"start\" x=\"1530\" y=\"-863.3\" font-family=\"Helvetica,sans-Serif\" font-size=\"14.00\" fill=\"#000000\">samples = 1</text>\n<text text-anchor=\"start\" x=\"1528\" y=\"-848.3\" font-family=\"Helvetica,sans-Serif\" font-size=\"14.00\" fill=\"#000000\">value = [0, 1]</text>\n<text text-anchor=\"start\" x=\"1540.5\" y=\"-833.3\" font-family=\"Helvetica,sans-Serif\" font-size=\"14.00\" fill=\"#000000\">class = 1</text>\n</g>\n<!-- 48&#45;&gt;50 -->\n<g id=\"edge50\" class=\"edge\">\n<title>48&#45;&gt;50</title>\n<path fill=\"none\" stroke=\"#000000\" d=\"M1493.4209,-936.8796C1504.7728,-925.3337 1517.0982,-912.7976 1528.457,-901.2446\"/>\n<polygon fill=\"#000000\" stroke=\"#000000\" points=\"1531.2466,-903.3995 1535.7618,-893.8149 1526.2551,-898.4919 1531.2466,-903.3995\"/>\n</g>\n</g>\n</svg>\n"
          },
          "metadata": {},
          "execution_count": 39
        },
        {
          "output_type": "display_data",
          "data": {
            "text/plain": [
              "<Figure size 720x720 with 0 Axes>"
            ]
          },
          "metadata": {}
        }
      ]
    }
  ]
}